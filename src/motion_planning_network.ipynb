{
 "cells": [
  {
   "cell_type": "code",
   "execution_count": null,
   "metadata": {
    "colab": {
     "base_uri": "https://localhost:8080/"
    },
    "executionInfo": {
     "elapsed": 2334,
     "status": "ok",
     "timestamp": 1641398061619,
     "user": {
      "displayName": "AlterArm",
      "photoUrl": "https://lh3.googleusercontent.com/a-/AOh14GiWK-wxB4-D5jlbs06y0_VdCNGrHcXmI4AQYyiejQ=s64",
      "userId": "02741529306535878932"
     },
     "user_tz": -60
    },
    "id": "z20D5QbbqZcf",
    "outputId": "d7097c44-925b-4504-e9cb-de7400bc3494"
   },
   "outputs": [],
   "source": [
    "import sys\n",
    "import os\n",
    "import glob\n",
    "# from google.colab import drive\n",
    "# drive.mount('/content/drive')"
   ]
  },
  {
   "cell_type": "code",
   "execution_count": null,
   "metadata": {
    "executionInfo": {
     "elapsed": 3,
     "status": "ok",
     "timestamp": 1641398061619,
     "user": {
      "displayName": "AlterArm",
      "photoUrl": "https://lh3.googleusercontent.com/a-/AOh14GiWK-wxB4-D5jlbs06y0_VdCNGrHcXmI4AQYyiejQ=s64",
      "userId": "02741529306535878932"
     },
     "user_tz": -60
    },
    "id": "YyuGAmOQsX_d"
   },
   "outputs": [],
   "source": [
    "import json\n",
    "import numpy as np\n",
    "import matplotlib.pyplot as plt\n",
    "\n",
    "import cv2\n",
    "# from google.colab.patches import cv2_imshow\n",
    "def cv2_imshow(img):\n",
    "    img = np.concatenate((img[:,:,2:3], img[:,:,1:2], img[:,:,0:1]), axis=2)\n",
    "    plt.imshow(img)\n",
    "    plt.show()\n",
    "\n",
    "# !pip3 install rich\n",
    "from rich.progress import Progress\n",
    "\n",
    "from utils import get_abs_path, steer_to, lazy_states_contraction, is_feasible"
   ]
  },
  {
   "cell_type": "code",
   "execution_count": null,
   "metadata": {
    "executionInfo": {
     "elapsed": 13,
     "status": "ok",
     "timestamp": 1641398064796,
     "user": {
      "displayName": "AlterArm",
      "photoUrl": "https://lh3.googleusercontent.com/a-/AOh14GiWK-wxB4-D5jlbs06y0_VdCNGrHcXmI4AQYyiejQ=s64",
      "userId": "02741529306535878932"
     },
     "user_tz": -60
    },
    "id": "B41Pwj44qK5q"
   },
   "outputs": [],
   "source": [
    "project_path = get_abs_path(1)\n",
    "\n",
    "images_dir = project_path + '/data/maps/'\n",
    "paths_dir = project_path + '/data/planned_maps/'\n",
    "model_dir = project_path + '/data/model_parameters.pt'\n",
    "\n",
    "paths_filename = 'paths.json'\n",
    "\n",
    "train_model = False\n",
    "\n",
    "samples_count = 2000\n",
    "training_percentage = 0.9\n",
    "test_percentage = 0.1\n",
    "\n",
    "training_count = int(samples_count * training_percentage)\n",
    "test_count = int(samples_count * test_percentage)"
   ]
  },
  {
   "cell_type": "code",
   "execution_count": null,
   "metadata": {
    "executionInfo": {
     "elapsed": 12,
     "status": "ok",
     "timestamp": 1641398064796,
     "user": {
      "displayName": "AlterArm",
      "photoUrl": "https://lh3.googleusercontent.com/a-/AOh14GiWK-wxB4-D5jlbs06y0_VdCNGrHcXmI4AQYyiejQ=s64",
      "userId": "02741529306535878932"
     },
     "user_tz": -60
    },
    "id": "KEtVWFQvpwy0"
   },
   "outputs": [],
   "source": [
    "paths = {}\n",
    "with open(paths_dir + paths_filename) as f:\n",
    "  paths = json.load(f)"
   ]
  },
  {
   "cell_type": "code",
   "execution_count": null,
   "metadata": {
    "executionInfo": {
     "elapsed": 12,
     "status": "ok",
     "timestamp": 1641398064796,
     "user": {
      "displayName": "AlterArm",
      "photoUrl": "https://lh3.googleusercontent.com/a-/AOh14GiWK-wxB4-D5jlbs06y0_VdCNGrHcXmI4AQYyiejQ=s64",
      "userId": "02741529306535878932"
     },
     "user_tz": -60
    },
    "id": "sbhgIHaXuAcF"
   },
   "outputs": [],
   "source": [
    "import torch\n",
    "from torch import nn\n",
    "from torch.utils.data import DataLoader, Dataset\n",
    "from torchvision import datasets\n",
    "from torchvision.io import read_image\n",
    "import torchvision.transforms as tt"
   ]
  },
  {
   "cell_type": "code",
   "execution_count": null,
   "metadata": {
    "executionInfo": {
     "elapsed": 13,
     "status": "ok",
     "timestamp": 1641398064797,
     "user": {
      "displayName": "AlterArm",
      "photoUrl": "https://lh3.googleusercontent.com/a-/AOh14GiWK-wxB4-D5jlbs06y0_VdCNGrHcXmI4AQYyiejQ=s64",
      "userId": "02741529306535878932"
     },
     "user_tz": -60
    },
    "id": "jZs2xxFKxDSu"
   },
   "outputs": [],
   "source": [
    "class ImageDataset(Dataset):\n",
    "\n",
    "  def __init__(self, images_dir, transform = None, target_transform = None):\n",
    "\n",
    "    self.images_dir = images_dir\n",
    "    self.transform = transform\n",
    "    self.target_transform = target_transform\n",
    "\n",
    "  def __len__(self):\n",
    "\n",
    "    files = []\n",
    "    files.extend(glob.glob(self.images_dir + '*.png'))\n",
    "    return len(files)\n",
    "\n",
    "  def __getitem__(self, idx):\n",
    "\n",
    "    image_path = self.images_dir + 'map_' + str(idx) + '.png'\n",
    "    image = torch.Tensor(plt.imread(image_path))\n",
    "    image = image.permute(2,1,0)\n",
    "    # image = read_image(image_path)\n",
    "    image = image[1:3, :, :] / 255\n",
    "\n",
    "    state = []\n",
    "    if self.transform:\n",
    "        state = torch.get_rng_state()\n",
    "        image_in = self.transform(image)\n",
    "    if self.target_transform:\n",
    "        torch.set_rng_state(state)\n",
    "        image_out = self.target_transform(image)\n",
    "\n",
    "    return image, image"
   ]
  },
  {
   "cell_type": "code",
   "execution_count": null,
   "metadata": {
    "executionInfo": {
     "elapsed": 12,
     "status": "ok",
     "timestamp": 1641398064797,
     "user": {
      "displayName": "AlterArm",
      "photoUrl": "https://lh3.googleusercontent.com/a-/AOh14GiWK-wxB4-D5jlbs06y0_VdCNGrHcXmI4AQYyiejQ=s64",
      "userId": "02741529306535878932"
     },
     "user_tz": -60
    },
    "id": "okHRDeQhxbig"
   },
   "outputs": [],
   "source": [
    "encoder_data = ImageDataset(images_dir)\n",
    "\n",
    "training_encoder_data, test_encoder_data = torch.utils.data.random_split(encoder_data, (training_count, test_count))\n",
    "\n",
    "train_encoder_dataloader = DataLoader(training_encoder_data, batch_size=16, shuffle=True, pin_memory=True)\n",
    "test_encoder_dataloader = DataLoader(test_encoder_data, batch_size=16, shuffle=True, pin_memory=True)"
   ]
  },
  {
   "cell_type": "code",
   "execution_count": null,
   "metadata": {
    "executionInfo": {
     "elapsed": 12,
     "status": "ok",
     "timestamp": 1641398064797,
     "user": {
      "displayName": "AlterArm",
      "photoUrl": "https://lh3.googleusercontent.com/a-/AOh14GiWK-wxB4-D5jlbs06y0_VdCNGrHcXmI4AQYyiejQ=s64",
      "userId": "02741529306535878932"
     },
     "user_tz": -60
    },
    "id": "GioywhBN-pnJ"
   },
   "outputs": [],
   "source": [
    "def display_image(image):\n",
    "  print(image.shape)\n",
    "  image = image * 255\n",
    "  image = image.squeeze()\n",
    "  image = image.permute(1, 2, 0).detach().numpy()\n",
    "  image = np.concatenate((image[:,:,1:2], image[:,:,0:1], (np.zeros((120, 120, 1)))), axis=2)\n",
    "  cv2_imshow(image)"
   ]
  },
  {
   "cell_type": "code",
   "execution_count": null,
   "metadata": {
    "colab": {
     "base_uri": "https://localhost:8080/",
     "height": 137
    },
    "executionInfo": {
     "elapsed": 12,
     "status": "ok",
     "timestamp": 1641398064797,
     "user": {
      "displayName": "AlterArm",
      "photoUrl": "https://lh3.googleusercontent.com/a-/AOh14GiWK-wxB4-D5jlbs06y0_VdCNGrHcXmI4AQYyiejQ=s64",
      "userId": "02741529306535878932"
     },
     "user_tz": -60
    },
    "id": "QUFPEkCGuZuI",
    "outputId": "320cd75b-2b78-45e9-eb07-bff2870114b3"
   },
   "outputs": [],
   "source": [
    "train_features, train_labels = next(iter(train_encoder_dataloader))\n",
    "\n",
    "display_image(train_features[0])"
   ]
  },
  {
   "cell_type": "code",
   "execution_count": null,
   "metadata": {
    "colab": {
     "base_uri": "https://localhost:8080/"
    },
    "executionInfo": {
     "elapsed": 12,
     "status": "ok",
     "timestamp": 1641398064798,
     "user": {
      "displayName": "AlterArm",
      "photoUrl": "https://lh3.googleusercontent.com/a-/AOh14GiWK-wxB4-D5jlbs06y0_VdCNGrHcXmI4AQYyiejQ=s64",
      "userId": "02741529306535878932"
     },
     "user_tz": -60
    },
    "id": "8v4ztNn-x2Mf",
    "outputId": "fe0c867e-11c1-46bd-a566-cab6fcfb650c"
   },
   "outputs": [],
   "source": [
    "device = 'cuda' if torch.cuda.is_available() else 'cpu'\n",
    "print('Using {0} device'.format(device))"
   ]
  },
  {
   "cell_type": "code",
   "execution_count": null,
   "metadata": {
    "executionInfo": {
     "elapsed": 11,
     "status": "ok",
     "timestamp": 1641398064798,
     "user": {
      "displayName": "AlterArm",
      "photoUrl": "https://lh3.googleusercontent.com/a-/AOh14GiWK-wxB4-D5jlbs06y0_VdCNGrHcXmI4AQYyiejQ=s64",
      "userId": "02741529306535878932"
     },
     "user_tz": -60
    },
    "id": "M633Zvpjx9ny"
   },
   "outputs": [],
   "source": [
    "def batch_norm_conv(ni, nf, stride=1):\n",
    "  return nn.Sequential(\n",
    "    nn.BatchNorm2d(ni),\n",
    "    nn.ReLU(inplace=True),\n",
    "    nn.Conv2d(ni, nf, (3, 3), stride=stride, padding=1, bias=False)\n",
    "  )"
   ]
  },
  {
   "cell_type": "code",
   "execution_count": null,
   "metadata": {
    "executionInfo": {
     "elapsed": 11,
     "status": "ok",
     "timestamp": 1641398064798,
     "user": {
      "displayName": "AlterArm",
      "photoUrl": "https://lh3.googleusercontent.com/a-/AOh14GiWK-wxB4-D5jlbs06y0_VdCNGrHcXmI4AQYyiejQ=s64",
      "userId": "02741529306535878932"
     },
     "user_tz": -60
    },
    "id": "2SiASEm_yzs-"
   },
   "outputs": [],
   "source": [
    "def conv1x1(ni, nf, stride=1):\n",
    "  return nn.Sequential(\n",
    "    nn.Conv2d(ni, nf, (1, 1), stride=stride),\n",
    "    nn.BatchNorm2d(nf)\n",
    "  )"
   ]
  },
  {
   "cell_type": "code",
   "execution_count": null,
   "metadata": {
    "executionInfo": {
     "elapsed": 12,
     "status": "ok",
     "timestamp": 1641398064799,
     "user": {
      "displayName": "AlterArm",
      "photoUrl": "https://lh3.googleusercontent.com/a-/AOh14GiWK-wxB4-D5jlbs06y0_VdCNGrHcXmI4AQYyiejQ=s64",
      "userId": "02741529306535878932"
     },
     "user_tz": -60
    },
    "id": "imgUlbSGy6bo"
   },
   "outputs": [],
   "source": [
    "class ResBlock(nn.Module):\n",
    "\n",
    "  def __init__(self, ni, nf, stride=1):\n",
    "    super(ResBlock, self).__init__()\n",
    "    self.shortcut = conv1x1(ni, nf, stride=stride)\n",
    "    self.Bn1 = batch_norm_conv(ni, nf, stride=stride)\n",
    "    self.Bn2 = batch_norm_conv(nf, nf)\n",
    "\n",
    "  def forward(self, x):\n",
    "    short = self.shortcut(x)\n",
    "    x = self.Bn1(x)\n",
    "    x = self.Bn2(x)\n",
    "    return x.add(short)"
   ]
  },
  {
   "cell_type": "code",
   "execution_count": null,
   "metadata": {
    "executionInfo": {
     "elapsed": 12,
     "status": "ok",
     "timestamp": 1641398064799,
     "user": {
      "displayName": "AlterArm",
      "photoUrl": "https://lh3.googleusercontent.com/a-/AOh14GiWK-wxB4-D5jlbs06y0_VdCNGrHcXmI4AQYyiejQ=s64",
      "userId": "02741529306535878932"
     },
     "user_tz": -60
    },
    "id": "v0UiVu1UzXiN"
   },
   "outputs": [],
   "source": [
    "class ResEncoder(nn.Module):\n",
    "\n",
    "  def __init__(self):\n",
    "    super(ResEncoder, self).__init__()\n",
    "\n",
    "    self.short1 = conv1x1(2, 2)\n",
    "    self.conv1 = nn.Conv2d(2, 2, (3, 3), padding=1)\n",
    "    self.Bn1 = batch_norm_conv(2, 2)\n",
    "    self.Res1 = ResBlock(2, 4)\n",
    "    self.Res2 = ResBlock(4, 8, stride=2)\n",
    "    self.Res3 = ResBlock(8, 16, stride=2)\n",
    "    self.Res4 = ResBlock(16, 16, stride=2)\n",
    "\n",
    "  def forward(self, x):\n",
    "\n",
    "    r = self.short1(x)\n",
    "    x = self.conv1(x)\n",
    "    x = self.Bn1(x)\n",
    "    x = x.add(r)\n",
    "    short1 = torch.clone(x)\n",
    "\n",
    "    x = self.Res1(x)\n",
    "    short2 = torch.clone(x)\n",
    "    x = self.Res2(x)\n",
    "    short3 = torch.clone(x)\n",
    "    x = self.Res3(x)\n",
    "    short4 = torch.clone(x)\n",
    "    x = self.Res4(x)\n",
    "\n",
    "    return x, short1, short2, short3, short4"
   ]
  },
  {
   "cell_type": "code",
   "execution_count": null,
   "metadata": {
    "executionInfo": {
     "elapsed": 11,
     "status": "ok",
     "timestamp": 1641398064799,
     "user": {
      "displayName": "AlterArm",
      "photoUrl": "https://lh3.googleusercontent.com/a-/AOh14GiWK-wxB4-D5jlbs06y0_VdCNGrHcXmI4AQYyiejQ=s64",
      "userId": "02741529306535878932"
     },
     "user_tz": -60
    },
    "id": "KFHhTeZdzpfR"
   },
   "outputs": [],
   "source": [
    "class ResDecoder(nn.Module):\n",
    "\n",
    "  def __init__(self):\n",
    "    super(ResDecoder, self).__init__()\n",
    "\n",
    "    self.Up1 = nn.UpsamplingBilinear2d(scale_factor=2)\n",
    "    self.Up2 = nn.UpsamplingBilinear2d(scale_factor=2)\n",
    "    self.Up3 = nn.UpsamplingBilinear2d(scale_factor=2)\n",
    "    self.Up4 = nn.UpsamplingBilinear2d(scale_factor=1)\n",
    "\n",
    "    self.Res5 = ResBlock(32, 8)\n",
    "    self.Res6 = ResBlock(16, 4)\n",
    "    self.Res7 = ResBlock(8, 2)\n",
    "    self.Res8 = ResBlock(4, 2)\n",
    "\n",
    "    self.conv2 = nn.Conv2d(2, 2, (1, 1))\n",
    "    self.sigmoid = nn.Sigmoid()\n",
    "\n",
    "  def forward(self, x, short1, short2, short3, short4):\n",
    "\n",
    "    x = self.Up1(x)\n",
    "    x = torch.cat((short4, x), dim=1)\n",
    "    x = self.Res5(x)\n",
    "\n",
    "    x = self.Up2(x)\n",
    "    x = torch.cat((short3, x), dim=1)\n",
    "    x = self.Res6(x)\n",
    "\n",
    "    x = self.Up3(x)\n",
    "    x = torch.cat((short2, x), dim=1)\n",
    "    x = self.Res7(x)\n",
    "\n",
    "    x = self.Up4(x)\n",
    "    x = torch.cat((short1, x), dim=1)\n",
    "    x = self.Res8(x)\n",
    "\n",
    "    x = self.conv2(x)\n",
    "    x = self.sigmoid(x)\n",
    "\n",
    "    return x"
   ]
  },
  {
   "cell_type": "code",
   "execution_count": null,
   "metadata": {
    "colab": {
     "base_uri": "https://localhost:8080/"
    },
    "executionInfo": {
     "elapsed": 11,
     "status": "ok",
     "timestamp": 1641398064799,
     "user": {
      "displayName": "AlterArm",
      "photoUrl": "https://lh3.googleusercontent.com/a-/AOh14GiWK-wxB4-D5jlbs06y0_VdCNGrHcXmI4AQYyiejQ=s64",
      "userId": "02741529306535878932"
     },
     "user_tz": -60
    },
    "id": "LdqrFsixzOGl",
    "outputId": "00b0d18f-b00f-4073-d70b-fe9d9c2ca7d5"
   },
   "outputs": [],
   "source": [
    "class ResUNet(nn.Module):\n",
    "\n",
    "  def __init__(self):\n",
    "    super(ResUNet, self).__init__()\n",
    "\n",
    "    self.Encoder = ResEncoder()\n",
    "    self.Decoder = ResDecoder()\n",
    "\n",
    "  def forward(self, x):\n",
    "\n",
    "    x, short1, short2, short3, short4 = self.Encoder(x)\n",
    "    x = self.Decoder(x, short1, short2, short3, short4)\n",
    "    return x\n",
    "\n",
    "Enet = ResUNet().to(device)\n",
    "print(Enet.Encoder)\n",
    "print(Enet.Decoder)"
   ]
  },
  {
   "cell_type": "code",
   "execution_count": null,
   "metadata": {
    "executionInfo": {
     "elapsed": 10,
     "status": "ok",
     "timestamp": 1641398064799,
     "user": {
      "displayName": "AlterArm",
      "photoUrl": "https://lh3.googleusercontent.com/a-/AOh14GiWK-wxB4-D5jlbs06y0_VdCNGrHcXmI4AQYyiejQ=s64",
      "userId": "02741529306535878932"
     },
     "user_tz": -60
    },
    "id": "5ndEB0UP2zAX"
   },
   "outputs": [],
   "source": [
    "loss_fn = nn.MSELoss()\n",
    "optimizer = torch.optim.Adam(Enet.parameters(), lr=1e-3)"
   ]
  },
  {
   "cell_type": "code",
   "execution_count": null,
   "metadata": {
    "executionInfo": {
     "elapsed": 11,
     "status": "ok",
     "timestamp": 1641398064800,
     "user": {
      "displayName": "AlterArm",
      "photoUrl": "https://lh3.googleusercontent.com/a-/AOh14GiWK-wxB4-D5jlbs06y0_VdCNGrHcXmI4AQYyiejQ=s64",
      "userId": "02741529306535878932"
     },
     "user_tz": -60
    },
    "id": "3jCsfnuo2_VY"
   },
   "outputs": [],
   "source": [
    "def train(dataloader, model, loss_fn, optimizer):\n",
    "\n",
    "  size = len(dataloader.dataset)\n",
    "  model.train()\n",
    "\n",
    "  for batch, (X, y) in enumerate(dataloader):\n",
    "    X, y = X.to(device), y.to(device)\n",
    "\n",
    "    # Compute prediction error\n",
    "    pred = model(X)\n",
    "    #print(pred.shape, y.shape)\n",
    "    loss = loss_fn(pred, y)\n",
    "\n",
    "    # Backpropagation\n",
    "    optimizer.zero_grad()\n",
    "    loss.backward()\n",
    "    optimizer.step()\n",
    "\n",
    "    if batch % 100 == 0:\n",
    "      loss, current = loss.item(), batch * len(X)\n",
    "      print(f'loss: {loss:>7f}  [{current:>5d}/{size:>5d}]')"
   ]
  },
  {
   "cell_type": "code",
   "execution_count": null,
   "metadata": {
    "executionInfo": {
     "elapsed": 492,
     "status": "ok",
     "timestamp": 1641398065281,
     "user": {
      "displayName": "AlterArm",
      "photoUrl": "https://lh3.googleusercontent.com/a-/AOh14GiWK-wxB4-D5jlbs06y0_VdCNGrHcXmI4AQYyiejQ=s64",
      "userId": "02741529306535878932"
     },
     "user_tz": -60
    },
    "id": "NGCOrIAd5EiH"
   },
   "outputs": [],
   "source": [
    "def test(dataloader, model, loss_fn):\n",
    "\n",
    "  size = len(dataloader.dataset)\n",
    "  num_batches = len(dataloader)\n",
    "  model.eval()\n",
    "  test_loss, correct = 0, 0\n",
    "  with torch.no_grad():\n",
    "    for X, y in dataloader:\n",
    "      X, y = X.to(device), y.to(device)\n",
    "      pred = model(X)\n",
    "      test_loss += loss_fn(pred, y).item()\n",
    "      # correct += (pred.argmax(1) == y).type(torch.float).sum().item()\n",
    "  test_loss /= num_batches\n",
    "  # correct /= size\n",
    "  print(f'Test Error: \\n Accuracy: {(np.nan):>0.1f}%, Avg loss: {test_loss:>8f} \\n')"
   ]
  },
  {
   "cell_type": "code",
   "execution_count": null,
   "metadata": {
    "colab": {
     "base_uri": "https://localhost:8080/"
    },
    "executionInfo": {
     "elapsed": 9190,
     "status": "ok",
     "timestamp": 1641398074469,
     "user": {
      "displayName": "AlterArm",
      "photoUrl": "https://lh3.googleusercontent.com/a-/AOh14GiWK-wxB4-D5jlbs06y0_VdCNGrHcXmI4AQYyiejQ=s64",
      "userId": "02741529306535878932"
     },
     "user_tz": -60
    },
    "id": "bYtDJkXN36hr",
    "outputId": "ccda881d-d536-446c-c2c2-10e059ba8673"
   },
   "outputs": [],
   "source": [
    "if not os.path.exists(model_dir) or train_model == True:\n",
    "  epochs = 100\n",
    "  for t in range(epochs):\n",
    "    print(f'Epoch {t+1}\\n-------------------------------')\n",
    "    train(train_encoder_dataloader, Enet, loss_fn, optimizer)\n",
    "    test(test_encoder_dataloader, Enet, loss_fn)\n",
    "  print('Done!')\n",
    "else:\n",
    "  Enet.load_state_dict(torch.load(model_dir))\n",
    "  Enet.eval()"
   ]
  },
  {
   "cell_type": "code",
   "execution_count": null,
   "metadata": {
    "colab": {
     "base_uri": "https://localhost:8080/",
     "height": 393
    },
    "executionInfo": {
     "elapsed": 418,
     "status": "ok",
     "timestamp": 1641398303376,
     "user": {
      "displayName": "AlterArm",
      "photoUrl": "https://lh3.googleusercontent.com/a-/AOh14GiWK-wxB4-D5jlbs06y0_VdCNGrHcXmI4AQYyiejQ=s64",
      "userId": "02741529306535878932"
     },
     "user_tz": -60
    },
    "id": "QCQgyA_15PvK",
    "outputId": "cad80819-974e-40b4-c66a-def1b9ffc767"
   },
   "outputs": [],
   "source": [
    "test_features, test_labels = next(iter(test_encoder_dataloader))\n",
    "display_image(test_features[0])\n",
    "display_image(test_labels[0])\n",
    "\n",
    "result = Enet(test_labels.to(device))\n",
    "result = result.cpu()\n",
    "display_image(result[0])\n",
    "print(Enet.Encoder(test_labels.to(device))[0][0].shape)"
   ]
  },
  {
   "cell_type": "code",
   "execution_count": null,
   "metadata": {},
   "outputs": [],
   "source": [
    "def Replaning(a, b):\n",
    "    pass\n",
    "\n",
    "N = 10"
   ]
  },
  {
   "cell_type": "code",
   "execution_count": null,
   "metadata": {},
   "outputs": [],
   "source": [
    "# Algorithm 1\n",
    "def MPNet(x_init, x_goal, x_obs):\n",
    "    Z = Enet.Encoder(x_obs)\n",
    "    Tau = NeuralPlanner(x_init, x_goal, Z)\n",
    "    if Tau:\n",
    "        Tau = lazy_states_contraction(Tau)\n",
    "\n",
    "        if is_feasible(Tau):\n",
    "            return Tau\n",
    "        else:\n",
    "            Tau_new = Replaning(Tau, Z)\n",
    "            Tau_new = lazy_states_contraction(Tau_new)\n",
    "            if is_feasible(Tau_new):\n",
    "                return Tau_new\n",
    "    return 0"
   ]
  },
  {
   "cell_type": "code",
   "execution_count": null,
   "metadata": {},
   "outputs": [],
   "source": [
    "# Algorithm 2\n",
    "def NeuralPlanner(x_start, x_goal, Z):\n",
    "    Tau_a = [x_start]\n",
    "    Tau_b = [x_goal]\n",
    "    Tau = 0\n",
    "\n",
    "    for i in range(N):\n",
    "        x_new = Pnet(Z, Tau_a[-1], Tau_b[-1])\n",
    "        Tau_a.append(x_new)\n",
    "        connectable = steer_to(Tau_a[-1], Tau_b[-1])\n",
    "\n",
    "        if connectable:\n",
    "            Tau = np.concatenate((Tau_a, Tau_b))\n",
    "            return Tau\n",
    "        \n",
    "        Tau_a, Tau_b = Tau_b, Tau_a\n",
    "\n",
    "    return 0"
   ]
  }
 ],
 "metadata": {
  "colab": {
   "authorship_tag": "ABX9TyPwQqSrx/eWM5U7H1MeaJ9I",
   "collapsed_sections": [],
   "name": "motion_planning_network.ipynb",
   "provenance": []
  },
  "kernelspec": {
   "display_name": "Python 3",
   "name": "python3"
  },
  "language_info": {
   "codemirror_mode": {
    "name": "ipython",
    "version": 3
   },
   "file_extension": ".py",
   "mimetype": "text/x-python",
   "name": "python",
   "nbconvert_exporter": "python",
   "pygments_lexer": "ipython3",
   "version": "3.8.8"
  }
 },
 "nbformat": 4,
 "nbformat_minor": 0
}
