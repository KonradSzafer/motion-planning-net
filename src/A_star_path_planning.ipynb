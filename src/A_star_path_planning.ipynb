{
 "cells": [
  {
   "cell_type": "code",
   "execution_count": null,
   "metadata": {
    "colab": {
     "base_uri": "https://localhost:8080/"
    },
    "executionInfo": {
     "elapsed": 2329,
     "status": "ok",
     "timestamp": 1641325925198,
     "user": {
      "displayName": "AlterArm",
      "photoUrl": "https://lh3.googleusercontent.com/a-/AOh14GiWK-wxB4-D5jlbs06y0_VdCNGrHcXmI4AQYyiejQ=s64",
      "userId": "02741529306535878932"
     },
     "user_tz": -60
    },
    "id": "2BPA1q_yTZNT",
    "outputId": "1c051fdd-8d36-459e-9fe7-8730b835f590"
   },
   "outputs": [],
   "source": [
    "import sys\n",
    "import os\n",
    "# from google.colab import drive\n",
    "# drive.mount('/content/drive')"
   ]
  },
  {
   "cell_type": "code",
   "execution_count": null,
   "metadata": {
    "executionInfo": {
     "elapsed": 8,
     "status": "ok",
     "timestamp": 1641325925199,
     "user": {
      "displayName": "AlterArm",
      "photoUrl": "https://lh3.googleusercontent.com/a-/AOh14GiWK-wxB4-D5jlbs06y0_VdCNGrHcXmI4AQYyiejQ=s64",
      "userId": "02741529306535878932"
     },
     "user_tz": -60
    },
    "id": "D-Y0xneqUku-"
   },
   "outputs": [],
   "source": [
    "import csv\n",
    "import numpy as np\n",
    "import matplotlib.pyplot as plt\n",
    "\n",
    "import cv2\n",
    "# from google.colab.patches import cv2_imshow\n",
    "def cv2_imshow(img):\n",
    "    img = np.concatenate((img[:,:,2:3], img[:,:,1:2], img[:,:,0:1]), axis=2)\n",
    "    plt.imshow(img)\n",
    "    plt.show()\n",
    "\n",
    "# !pip3 install rich\n",
    "from rich.progress import Progress\n",
    "\n",
    "from utils import get_abs_path\n",
    "from a_star import find_path"
   ]
  },
  {
   "cell_type": "code",
   "execution_count": null,
   "metadata": {
    "executionInfo": {
     "elapsed": 14,
     "status": "ok",
     "timestamp": 1641325928174,
     "user": {
      "displayName": "AlterArm",
      "photoUrl": "https://lh3.googleusercontent.com/a-/AOh14GiWK-wxB4-D5jlbs06y0_VdCNGrHcXmI4AQYyiejQ=s64",
      "userId": "02741529306535878932"
     },
     "user_tz": -60
    },
    "id": "73yM1NT7UnxC"
   },
   "outputs": [],
   "source": [
    "def load_images(path, size):\n",
    "  data = []\n",
    "  f = []\n",
    "\n",
    "  for (dirpath, dirnames, filenames) in os.walk(path):\n",
    "      f.extend(filenames)\n",
    "      break\n",
    "\n",
    "  with Progress() as progress:\n",
    "    task = progress.add_task('[yellow]Loading images...', total=size)\n",
    "\n",
    "    for i in range(size):\n",
    "      img_path = path + f[i]\n",
    "      img = cv2.imread(img_path)\n",
    "      data.append(img)\n",
    "      progress.update(task, advance=1)\n",
    "\n",
    "  data = np.array(data)\n",
    "  # print(data.shape)\n",
    "  data = np.reshape(data, (-1, 120, 120, 3))\n",
    "  return data\n",
    "\n",
    "def get_points(image):\n",
    "  image = np.copy(image)\n",
    "  points = []\n",
    "  width = image.shape[0]\n",
    "  height = image.shape[1]\n",
    "\n",
    "  for y in range(height):\n",
    "    for x in range(width):\n",
    "      value = image[y, x, 1]\n",
    "      if value == 255:\n",
    "        x_p = x + 2\n",
    "        y_p = y + 2\n",
    "        points.append(x_p)\n",
    "        points.append(y_p)\n",
    "        for i in range(y, y+5):\n",
    "          for j in range(x, x+5):\n",
    "            image[i, j, 1] = 0\n",
    "\n",
    "  return points\n",
    "\n",
    "def get_coordinates(images, size):\n",
    "\n",
    "  rows = []\n",
    "  with Progress() as progress:\n",
    "    task = progress.add_task('[yellow]Loading coordinates...', total=size)\n",
    "\n",
    "    for i in range(size):\n",
    "      points = get_points(images[i])\n",
    "      rows.append(points)\n",
    "      progress.update(task, advance=1)\n",
    "\n",
    "  return rows\n",
    "\n",
    "def load_data(path, size):\n",
    "\n",
    "  images = load_images(path, size)\n",
    "  coordinates = get_coordinates(images, size)\n",
    "  return images, coordinates"
   ]
  },
  {
   "cell_type": "code",
   "execution_count": null,
   "metadata": {
    "colab": {
     "base_uri": "https://localhost:8080/",
     "height": 51,
     "referenced_widgets": [
      "7b30480b1a49430b8f416c02707197b2",
      "5fb4b754bef04e55b2b227bd9e8582a1",
      "c002fbde087e40a59a132954b8e6313a",
      "bb31349108ae4326927a11301c4739d4"
     ]
    },
    "executionInfo": {
     "elapsed": 514,
     "status": "ok",
     "timestamp": 1641325928675,
     "user": {
      "displayName": "AlterArm",
      "photoUrl": "https://lh3.googleusercontent.com/a-/AOh14GiWK-wxB4-D5jlbs06y0_VdCNGrHcXmI4AQYyiejQ=s64",
      "userId": "02741529306535878932"
     },
     "user_tz": -60
    },
    "id": "V129ZteRRr7h",
    "outputId": "e0012d43-d4ab-4c48-f993-193a0e5e63e4"
   },
   "outputs": [],
   "source": [
    "project_path = get_abs_path(1)\n",
    "\n",
    "dataset_path = project_path + '/data/maps/'\n",
    "results_path = project_path + '/data/planned_maps/'\n",
    "results_filename = 'paths.json'\n",
    "\n",
    "samples_count = 10\n",
    "dataset, coordinates = load_data(dataset_path, samples_count)"
   ]
  },
  {
   "cell_type": "code",
   "execution_count": null,
   "metadata": {
    "colab": {
     "base_uri": "https://localhost:8080/",
     "height": 137
    },
    "executionInfo": {
     "elapsed": 7,
     "status": "ok",
     "timestamp": 1641325928677,
     "user": {
      "displayName": "AlterArm",
      "photoUrl": "https://lh3.googleusercontent.com/a-/AOh14GiWK-wxB4-D5jlbs06y0_VdCNGrHcXmI4AQYyiejQ=s64",
      "userId": "02741529306535878932"
     },
     "user_tz": -60
    },
    "id": "uacMJjK6YkIY",
    "outputId": "9dd75be9-57be-4100-9cf2-8b400c533e2e"
   },
   "outputs": [],
   "source": [
    "for i in range(1):\n",
    "  cv2_imshow(dataset[i, :, :, :])"
   ]
  },
  {
   "cell_type": "markdown",
   "metadata": {
    "id": "o-Y_hGaheDhq"
   },
   "source": [
    "## A* planning algorithm"
   ]
  },
  {
   "cell_type": "code",
   "execution_count": null,
   "metadata": {
    "executionInfo": {
     "elapsed": 372,
     "status": "ok",
     "timestamp": 1641325929044,
     "user": {
      "displayName": "AlterArm",
      "photoUrl": "https://lh3.googleusercontent.com/a-/AOh14GiWK-wxB4-D5jlbs06y0_VdCNGrHcXmI4AQYyiejQ=s64",
      "userId": "02741529306535878932"
     },
     "user_tz": -60
    },
    "id": "-e1XDHfvQa2t"
   },
   "outputs": [],
   "source": [
    "def mark_path_points(oryg_map, oryg_path):\n",
    "  map = np.copy(oryg_map)\n",
    "  path = oryg_path.copy()\n",
    "  start_point = path[0]\n",
    "  goal_point = path[-1]\n",
    "  path = path[1:-1]\n",
    "\n",
    "  # y, x\n",
    "  directions_dict = {\n",
    "    (-1,-1): 'NW',\n",
    "    (-1, 0): 'N',\n",
    "    (-1, 1): 'NE',\n",
    "    ( 0, 1): 'E',\n",
    "    ( 1, 1): 'SE',\n",
    "    ( 1, 0): 'S',\n",
    "    ( 1,-1): 'SW',\n",
    "    ( 0,-1): 'W'\n",
    "  }\n",
    "\n",
    "  mark_points = []\n",
    "  last_x = start_point[0]\n",
    "  last_y = start_point[1]\n",
    "  last_dir = None\n",
    "\n",
    "  for curr_x, curr_y in path:\n",
    "    x_change = curr_x - last_x\n",
    "    y_change = curr_y - last_y\n",
    "    dir = directions_dict[(y_change, x_change)]\n",
    "\n",
    "    if dir is not last_dir:\n",
    "      mark_points.append( (last_x, last_y) )\n",
    "\n",
    "    last_x = curr_x\n",
    "    last_y = curr_y\n",
    "    last_dir = dir\n",
    "\n",
    "  mark_points.append(goal_point)\n",
    "\n",
    "  for x, y in mark_points:\n",
    "    map[y, x, 1] = 0\n",
    "    map[y, x, 2] = 255\n",
    "  return map, mark_points"
   ]
  },
  {
   "cell_type": "code",
   "execution_count": null,
   "metadata": {
    "executionInfo": {
     "elapsed": 10,
     "status": "ok",
     "timestamp": 1641325929045,
     "user": {
      "displayName": "AlterArm",
      "photoUrl": "https://lh3.googleusercontent.com/a-/AOh14GiWK-wxB4-D5jlbs06y0_VdCNGrHcXmI4AQYyiejQ=s64",
      "userId": "02741529306535878932"
     },
     "user_tz": -60
    },
    "id": "5B5-__EXRAjU"
   },
   "outputs": [],
   "source": [
    "def generate_point_paths(dataset, coordinates):\n",
    "  size = dataset.shape[0]\n",
    "  maps = []\n",
    "  paths = {}\n",
    "\n",
    "  with Progress() as progress:\n",
    "    task = progress.add_task('[yellow]Loading images...', total=size)\n",
    "\n",
    "    for i in range(size):\n",
    "      map = dataset[i]\n",
    "      coor = coordinates[i]\n",
    "      name = 'map_' + str(i)\n",
    "      map, path = find_path(map, coor)\n",
    "      map, points = mark_path_points(map, path)\n",
    "      maps.append(map)\n",
    "      paths[name] = points\n",
    "      # cv2_imshow(map)\n",
    "\n",
    "      progress.update(task, advance=1)\n",
    "\n",
    "  return maps, paths"
   ]
  },
  {
   "cell_type": "code",
   "execution_count": null,
   "metadata": {
    "colab": {
     "base_uri": "https://localhost:8080/",
     "height": 1000,
     "referenced_widgets": [
      "86c4cf9b041f4c11a9d72845240e8e4f",
      "144520969ab843258f2e382bdf1fe943"
     ]
    },
    "executionInfo": {
     "elapsed": 5188,
     "status": "ok",
     "timestamp": 1641325934224,
     "user": {
      "displayName": "AlterArm",
      "photoUrl": "https://lh3.googleusercontent.com/a-/AOh14GiWK-wxB4-D5jlbs06y0_VdCNGrHcXmI4AQYyiejQ=s64",
      "userId": "02741529306535878932"
     },
     "user_tz": -60
    },
    "id": "ljD1yooHRNVp",
    "outputId": "63ea0d0a-843b-467d-dc73-06bd21763432"
   },
   "outputs": [],
   "source": [
    "maps, paths = generate_point_paths(dataset, coordinates)\n",
    "\n",
    "for i in range(5):\n",
    "  cv2_imshow(maps[i])"
   ]
  },
  {
   "cell_type": "code",
   "execution_count": null,
   "metadata": {
    "executionInfo": {
     "elapsed": 17,
     "status": "ok",
     "timestamp": 1641325934225,
     "user": {
      "displayName": "AlterArm",
      "photoUrl": "https://lh3.googleusercontent.com/a-/AOh14GiWK-wxB4-D5jlbs06y0_VdCNGrHcXmI4AQYyiejQ=s64",
      "userId": "02741529306535878932"
     },
     "user_tz": -60
    },
    "id": "Xi-NLSmSQqWJ"
   },
   "outputs": [],
   "source": [
    "import json\n",
    "\n",
    "with open(results_path + results_filename, 'w') as f:\n",
    "    json.dump(paths, f)"
   ]
  }
 ],
 "metadata": {
  "colab": {
   "authorship_tag": "ABX9TyNn+PLX8xwvZ4BelWdhHjqy",
   "collapsed_sections": [],
   "name": "A_star_for_maps.ipynb",
   "provenance": []
  },
  "kernelspec": {
   "display_name": "Python 3",
   "name": "python3"
  },
  "language_info": {
   "codemirror_mode": {
    "name": "ipython",
    "version": 3
   },
   "file_extension": ".py",
   "mimetype": "text/x-python",
   "name": "python",
   "nbconvert_exporter": "python",
   "pygments_lexer": "ipython3",
   "version": "3.9.7"
  },
  "widgets": {
   "application/vnd.jupyter.widget-state+json": {
    "144520969ab843258f2e382bdf1fe943": {
     "model_module": "@jupyter-widgets/base",
     "model_module_version": "1.2.0",
     "model_name": "LayoutModel",
     "state": {
      "_model_module": "@jupyter-widgets/base",
      "_model_module_version": "1.2.0",
      "_model_name": "LayoutModel",
      "_view_count": null,
      "_view_module": "@jupyter-widgets/base",
      "_view_module_version": "1.2.0",
      "_view_name": "LayoutView",
      "align_content": null,
      "align_items": null,
      "align_self": null,
      "border": null,
      "bottom": null,
      "display": null,
      "flex": null,
      "flex_flow": null,
      "grid_area": null,
      "grid_auto_columns": null,
      "grid_auto_flow": null,
      "grid_auto_rows": null,
      "grid_column": null,
      "grid_gap": null,
      "grid_row": null,
      "grid_template_areas": null,
      "grid_template_columns": null,
      "grid_template_rows": null,
      "height": null,
      "justify_content": null,
      "justify_items": null,
      "left": null,
      "margin": null,
      "max_height": null,
      "max_width": null,
      "min_height": null,
      "min_width": null,
      "object_fit": null,
      "object_position": null,
      "order": null,
      "overflow": null,
      "overflow_x": null,
      "overflow_y": null,
      "padding": null,
      "right": null,
      "top": null,
      "visibility": null,
      "width": null
     }
    },
    "5fb4b754bef04e55b2b227bd9e8582a1": {
     "model_module": "@jupyter-widgets/base",
     "model_module_version": "1.2.0",
     "model_name": "LayoutModel",
     "state": {
      "_model_module": "@jupyter-widgets/base",
      "_model_module_version": "1.2.0",
      "_model_name": "LayoutModel",
      "_view_count": null,
      "_view_module": "@jupyter-widgets/base",
      "_view_module_version": "1.2.0",
      "_view_name": "LayoutView",
      "align_content": null,
      "align_items": null,
      "align_self": null,
      "border": null,
      "bottom": null,
      "display": null,
      "flex": null,
      "flex_flow": null,
      "grid_area": null,
      "grid_auto_columns": null,
      "grid_auto_flow": null,
      "grid_auto_rows": null,
      "grid_column": null,
      "grid_gap": null,
      "grid_row": null,
      "grid_template_areas": null,
      "grid_template_columns": null,
      "grid_template_rows": null,
      "height": null,
      "justify_content": null,
      "justify_items": null,
      "left": null,
      "margin": null,
      "max_height": null,
      "max_width": null,
      "min_height": null,
      "min_width": null,
      "object_fit": null,
      "object_position": null,
      "order": null,
      "overflow": null,
      "overflow_x": null,
      "overflow_y": null,
      "padding": null,
      "right": null,
      "top": null,
      "visibility": null,
      "width": null
     }
    },
    "7b30480b1a49430b8f416c02707197b2": {
     "model_module": "@jupyter-widgets/output",
     "model_module_version": "1.0.0",
     "model_name": "OutputModel",
     "state": {
      "_dom_classes": [],
      "_model_module": "@jupyter-widgets/output",
      "_model_module_version": "1.0.0",
      "_model_name": "OutputModel",
      "_view_count": null,
      "_view_module": "@jupyter-widgets/output",
      "_view_module_version": "1.0.0",
      "_view_name": "OutputView",
      "layout": "IPY_MODEL_5fb4b754bef04e55b2b227bd9e8582a1",
      "msg_id": "",
      "outputs": [
       {
        "data": {
         "text/html": "<pre style=\"white-space:pre;overflow-x:auto;line-height:normal;font-family:Menlo,'DejaVu Sans Mono',consolas,'Courier New',monospace\"><span style=\"color: #808000; text-decoration-color: #808000\">Loading images...</span> <span style=\"color: #3a3a3a; text-decoration-color: #3a3a3a\">━━━━━━━━━━━━━━━━━━━━━━━━━━━━━━━━━━━━━━━━</span> <span style=\"color: #800080; text-decoration-color: #800080\">  0%</span> <span style=\"color: #008080; text-decoration-color: #008080\">-:--:--</span>\n</pre>\n",
         "text/plain": "\u001b[33mLoading images...\u001b[0m \u001b[38;5;237m━━━━━━━━━━━━━━━━━━━━━━━━━━━━━━━━━━━━━━━━\u001b[0m \u001b[35m  0%\u001b[0m \u001b[36m-:--:--\u001b[0m\n"
        },
        "metadata": {},
        "output_type": "display_data"
       }
      ]
     }
    },
    "86c4cf9b041f4c11a9d72845240e8e4f": {
     "model_module": "@jupyter-widgets/output",
     "model_module_version": "1.0.0",
     "model_name": "OutputModel",
     "state": {
      "_dom_classes": [],
      "_model_module": "@jupyter-widgets/output",
      "_model_module_version": "1.0.0",
      "_model_name": "OutputModel",
      "_view_count": null,
      "_view_module": "@jupyter-widgets/output",
      "_view_module_version": "1.0.0",
      "_view_name": "OutputView",
      "layout": "IPY_MODEL_144520969ab843258f2e382bdf1fe943",
      "msg_id": "",
      "outputs": [
       {
        "data": {
         "text/html": "<pre style=\"white-space:pre;overflow-x:auto;line-height:normal;font-family:Menlo,'DejaVu Sans Mono',consolas,'Courier New',monospace\"><span style=\"color: #808000; text-decoration-color: #808000\">Loading images...</span> <span style=\"color: #f92672; text-decoration-color: #f92672\">━━━━━━━━━━━━━━━━━━━━━━━━━━━━━━━━━━━━</span><span style=\"color: #3a3a3a; text-decoration-color: #3a3a3a\">╺━━━</span> <span style=\"color: #800080; text-decoration-color: #800080\"> 90%</span> <span style=\"color: #008080; text-decoration-color: #008080\">0:00:01</span>\n</pre>\n",
         "text/plain": "\u001b[33mLoading images...\u001b[0m \u001b[38;2;249;38;114m━━━━━━━━━━━━━━━━━━━━━━━━━━━━━━━━━━━━\u001b[0m\u001b[38;5;237m╺\u001b[0m\u001b[38;5;237m━━━\u001b[0m \u001b[35m 90%\u001b[0m \u001b[36m0:00:01\u001b[0m\n"
        },
        "metadata": {},
        "output_type": "display_data"
       }
      ]
     }
    },
    "bb31349108ae4326927a11301c4739d4": {
     "model_module": "@jupyter-widgets/base",
     "model_module_version": "1.2.0",
     "model_name": "LayoutModel",
     "state": {
      "_model_module": "@jupyter-widgets/base",
      "_model_module_version": "1.2.0",
      "_model_name": "LayoutModel",
      "_view_count": null,
      "_view_module": "@jupyter-widgets/base",
      "_view_module_version": "1.2.0",
      "_view_name": "LayoutView",
      "align_content": null,
      "align_items": null,
      "align_self": null,
      "border": null,
      "bottom": null,
      "display": null,
      "flex": null,
      "flex_flow": null,
      "grid_area": null,
      "grid_auto_columns": null,
      "grid_auto_flow": null,
      "grid_auto_rows": null,
      "grid_column": null,
      "grid_gap": null,
      "grid_row": null,
      "grid_template_areas": null,
      "grid_template_columns": null,
      "grid_template_rows": null,
      "height": null,
      "justify_content": null,
      "justify_items": null,
      "left": null,
      "margin": null,
      "max_height": null,
      "max_width": null,
      "min_height": null,
      "min_width": null,
      "object_fit": null,
      "object_position": null,
      "order": null,
      "overflow": null,
      "overflow_x": null,
      "overflow_y": null,
      "padding": null,
      "right": null,
      "top": null,
      "visibility": null,
      "width": null
     }
    },
    "c002fbde087e40a59a132954b8e6313a": {
     "model_module": "@jupyter-widgets/output",
     "model_module_version": "1.0.0",
     "model_name": "OutputModel",
     "state": {
      "_dom_classes": [],
      "_model_module": "@jupyter-widgets/output",
      "_model_module_version": "1.0.0",
      "_model_name": "OutputModel",
      "_view_count": null,
      "_view_module": "@jupyter-widgets/output",
      "_view_module_version": "1.0.0",
      "_view_name": "OutputView",
      "layout": "IPY_MODEL_bb31349108ae4326927a11301c4739d4",
      "msg_id": "",
      "outputs": [
       {
        "data": {
         "text/html": "<pre style=\"white-space:pre;overflow-x:auto;line-height:normal;font-family:Menlo,'DejaVu Sans Mono',consolas,'Courier New',monospace\"><span style=\"color: #808000; text-decoration-color: #808000\">Loading coordinates...</span> <span style=\"color: #f92672; text-decoration-color: #f92672\">━━━━━━━━━━━━━━━━━━━━━━━━━━━━</span><span style=\"color: #3a3a3a; text-decoration-color: #3a3a3a\">╺━━━━━━━━━━━</span> <span style=\"color: #800080; text-decoration-color: #800080\"> 70%</span> <span style=\"color: #008080; text-decoration-color: #008080\">0:00:01</span>\n</pre>\n",
         "text/plain": "\u001b[33mLoading coordinates...\u001b[0m \u001b[38;2;249;38;114m━━━━━━━━━━━━━━━━━━━━━━━━━━━━\u001b[0m\u001b[38;5;237m╺\u001b[0m\u001b[38;5;237m━━━━━━━━━━━\u001b[0m \u001b[35m 70%\u001b[0m \u001b[36m0:00:01\u001b[0m\n"
        },
        "metadata": {},
        "output_type": "display_data"
       }
      ]
     }
    }
   }
  }
 },
 "nbformat": 4,
 "nbformat_minor": 0
}
