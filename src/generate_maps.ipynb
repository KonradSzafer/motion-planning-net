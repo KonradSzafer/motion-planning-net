{
 "cells": [
  {
   "cell_type": "code",
   "execution_count": 1,
   "metadata": {},
   "outputs": [],
   "source": [
    "import sys\n",
    "import os\n",
    "import time\n",
    "from pathlib import Path\n",
    "import csv\n",
    "from math import *\n",
    "import numpy as np\n",
    "import matplotlib.pyplot as plt\n",
    "import cv2\n",
    "\n",
    "from utils import get_abs_path"
   ]
  },
  {
   "cell_type": "code",
   "execution_count": 2,
   "metadata": {
    "executionInfo": {
     "elapsed": 21,
     "status": "ok",
     "timestamp": 1641325210863,
     "user": {
      "displayName": "AlterArm",
      "photoUrl": "https://lh3.googleusercontent.com/a-/AOh14GiWK-wxB4-D5jlbs06y0_VdCNGrHcXmI4AQYyiejQ=s64",
      "userId": "02741529306535878932"
     },
     "user_tz": -60
    },
    "id": "ra4LDpVB6iky"
   },
   "outputs": [],
   "source": [
    "def cv2_imshow(img):\n",
    "    img = np.concatenate((img[:,:,2:3], img[:,:,1:2], img[:,:,0:1]), axis=2)\n",
    "    plt.imshow(img)\n",
    "    plt.show()\n",
    "\n",
    "\n",
    "def rand_point_on_map(map_size, offset):\n",
    "\n",
    "    min_pos = offset\n",
    "    max_x_pos = map_size[0]-offset\n",
    "    max_y_pos = map_size[1]-offset\n",
    "\n",
    "    x_pos = np.random.randint(low = min_pos, high = max_x_pos, size = 1)\n",
    "    y_pos = np.random.randint(low = min_pos, high = max_y_pos, size = 1)\n",
    "    return int(x_pos), int(y_pos)\n",
    "\n",
    "\n",
    "def create_start_point(img, map_size, offset=3):\n",
    "\n",
    "    x_pos, y_pos = rand_point_on_map(map_size, offset)\n",
    "\n",
    "    occupied_pos = 255\n",
    "    while img[y_pos,x_pos,0] == occupied_pos:\n",
    "        x_pos, y_pos = rand_point_on_map(map_size, offset)\n",
    "\n",
    "    cv2.rectangle(img, (x_pos-2, y_pos-2), (x_pos+2, y_pos+2), (0,255,0), -1)\n",
    "    return x_pos, y_pos\n",
    "\n",
    "\n",
    "def create_end_point(img, start_x_pos, start_y_pos, map_size, min_distance, offset=3):\n",
    "\n",
    "    x_pos, y_pos = rand_point_on_map(map_size, offset)\n",
    "    occupied_pos = 255\n",
    "    while True:\n",
    "        x_pos, y_pos = rand_point_on_map(map_size, offset)\n",
    "\n",
    "        if img[y_pos,x_pos,0] != occupied_pos:\n",
    "            if sqrt( pow(start_x_pos-x_pos,2) + pow(start_y_pos-y_pos,2) ) > float(min_distance):\n",
    "                break\n",
    "\n",
    "    cv2.rectangle(img, (x_pos-2, y_pos-2), (x_pos+2, y_pos+2), (0,255,0), -1)\n",
    "    return x_pos, y_pos\n",
    "\n",
    "\n",
    "def create_rect(img, x_pos, y_pos, width, height):\n",
    "    x_pos, y_pos, width, height = int(x_pos), int(y_pos), int(width), int(height)\n",
    "    cv2.rectangle(img, (x_pos, y_pos), (x_pos+width, y_pos+height), (255,0,0), -1)\n",
    "\n",
    "\n",
    "def add_obstacles(img, rect_count, rect_min, rect_max):\n",
    "    for i in range(rect_count):\n",
    "        rect_width = np.random.randint(low = rect_min, high = rect_max, size = 1)\n",
    "        rect_heigth = np.random.randint(low = rect_min, high = rect_max, size = 1)\n",
    "        pos = np.random.randint(low = 0, high = map_width-rect_width, size = 4)\n",
    "        create_rect(img, pos[0], pos[1], rect_width, rect_heigth)"
   ]
  },
  {
   "cell_type": "code",
   "execution_count": 3,
   "metadata": {
    "executionInfo": {
     "elapsed": 21,
     "status": "ok",
     "timestamp": 1641325210866,
     "user": {
      "displayName": "AlterArm",
      "photoUrl": "https://lh3.googleusercontent.com/a-/AOh14GiWK-wxB4-D5jlbs06y0_VdCNGrHcXmI4AQYyiejQ=s64",
      "userId": "02741529306535878932"
     },
     "user_tz": -60
    },
    "id": "QwRad9Ek-GdO"
   },
   "outputs": [],
   "source": [
    "# image size\n",
    "map_width = 120\n",
    "map_height = 120\n",
    "map_size = [map_width, map_height]\n",
    "\n",
    "# rect settings\n",
    "rect_count = 5 #12\n",
    "rect_min = 20 #15\n",
    "rect_max = 30 #25"
   ]
  },
  {
   "cell_type": "code",
   "execution_count": 4,
   "metadata": {
    "colab": {
     "base_uri": "https://localhost:8080/",
     "height": 137
    },
    "executionInfo": {
     "elapsed": 20,
     "status": "ok",
     "timestamp": 1641325210866,
     "user": {
      "displayName": "AlterArm",
      "photoUrl": "https://lh3.googleusercontent.com/a-/AOh14GiWK-wxB4-D5jlbs06y0_VdCNGrHcXmI4AQYyiejQ=s64",
      "userId": "02741529306535878932"
     },
     "user_tz": -60
    },
    "id": "nJHaIv3j-Y0F",
    "outputId": "27ef7c1f-77b9-4f3b-e9f1-a07793bf4460"
   },
   "outputs": [
    {
     "data": {
      "image/png": "[encoded data removed]",
      "text/plain": [
       "<Figure size 432x288 with 1 Axes>"
      ]
     },
     "metadata": {
      "needs_background": "light"
     },
     "output_type": "display_data"
    }
   ],
   "source": [
    "# generate test image\n",
    "img = np.zeros((map_width, map_height, 3), np.uint8)\n",
    "add_obstacles(img, rect_count, rect_min, rect_max)\n",
    "\n",
    "start_x_pos, start_y_pos = create_start_point(img, map_size)\n",
    "end_x_pos, end_y_pos = create_end_point(img, start_x_pos, start_y_pos, map_size, min_distance=90)\n",
    "cv2_imshow(img)"
   ]
  },
  {
   "cell_type": "code",
   "execution_count": 5,
   "metadata": {},
   "outputs": [],
   "source": [
    "# (first_map_num, last_map_num, num_paths)\n",
    "data_settings = {\n",
    "    'encoder': (0, 10, 1),\n",
    "    'train': (0, 10, 2),\n",
    "    'valid': (0, 10, 2),\n",
    "    'test':  (0, 10, 2)\n",
    "}\n",
    "project_path = get_abs_path(1)\n",
    "results_path = project_path + '/data/'\n",
    "maps_points_filename = 'maps_points.csv'\n",
    "\n",
    "# remove old point files\n",
    "# os.remove(results_path+'train/'+maps_points_filename)\n",
    "# os.remove(results_path+'valid/'+maps_points_filename)\n",
    "# os.remove(results_path+'test/'+maps_points_filename)\n",
    "\n",
    "# create dirs\n",
    "Path(results_path+'encoder_images/').mkdir(parents=True, exist_ok=True)\n",
    "Path(results_path+'train/maps/').mkdir(parents=True, exist_ok=True)\n",
    "Path(results_path+'valid/maps/').mkdir(parents=True, exist_ok=True)\n",
    "Path(results_path+'test/maps/').mkdir(parents=True, exist_ok=True)"
   ]
  },
  {
   "cell_type": "code",
   "execution_count": 6,
   "metadata": {
    "colab": {
     "base_uri": "https://localhost:8080/",
     "height": 1000
    },
    "id": "UOJLBvIMBcyy",
    "outputId": "bb53318f-0321-4c65-c3ed-7003aa57a3e5"
   },
   "outputs": [],
   "source": [
    "def generate_maps(results_path, first_map_num, last_map_num, num_paths):\n",
    "    for n in range(first_map_num, last_map_num):\n",
    "        # generate image\n",
    "        image = np.zeros((map_width, map_height, 3), np.uint8)\n",
    "\n",
    "        # add obstacles\n",
    "        add_obstacles(image, rect_count, rect_min, rect_max)\n",
    "\n",
    "        for i in range(num_paths):\n",
    "            # create start and end points\n",
    "            img = np.copy(image)\n",
    "            start_x_pos, start_y_pos = create_start_point(img, map_size)\n",
    "            end_x_pos, end_y_pos = create_end_point(img, start_x_pos, start_y_pos, map_size, min_distance=65)\n",
    "\n",
    "            # create map\n",
    "            map_name = 'map_' + str(n) + '_' + str(i) + '.png'\n",
    "            map_data = [map_name, str(start_x_pos), str(start_y_pos), str(end_x_pos), str(end_y_pos)]\n",
    "\n",
    "            # save points to csv\n",
    "            # print(map_data)\n",
    "            with open(results_path + maps_points_filename, 'a', newline='') as f:\n",
    "                writer = csv.writer(f)\n",
    "                writer.writerows([map_data])\n",
    "\n",
    "            # save image\n",
    "            if not cv2.imwrite(results_path + map_name, img):\n",
    "                raise Exception('Could not write image')\n",
    "\n",
    "\n",
    "generate_maps(results_path+'encoder_images/',  *data_settings['encoder'])\n",
    "generate_maps(results_path+'train/maps/', *data_settings['train'])\n",
    "generate_maps(results_path+'valid/maps/', *data_settings['valid'])\n",
    "generate_maps(results_path+'test/maps/',  *data_settings['test'])"
   ]
  }
 ],
 "metadata": {
  "colab": {
   "authorship_tag": "ABX9TyOfZFMpUDQnZBPOzauEEkB1",
   "collapsed_sections": [],
   "name": "generate_maps.ipynb",
   "provenance": []
  },
  "kernelspec": {
   "display_name": "Python 3",
   "name": "python3"
  },
  "language_info": {
   "codemirror_mode": {
    "name": "ipython",
    "version": 3
   },
   "file_extension": ".py",
   "mimetype": "text/x-python",
   "name": "python",
   "nbconvert_exporter": "python",
   "pygments_lexer": "ipython3",
   "version": "3.9.7"
  }
 },
 "nbformat": 4,
 "nbformat_minor": 0
}
