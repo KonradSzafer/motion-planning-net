{
 "cells": [
  {
   "cell_type": "code",
   "execution_count": null,
   "metadata": {
    "colab": {
     "base_uri": "https://localhost:8080/"
    },
    "executionInfo": {
     "elapsed": 2329,
     "status": "ok",
     "timestamp": 1641325925198,
     "user": {
      "displayName": "AlterArm",
      "photoUrl": "https://lh3.googleusercontent.com/a-/AOh14GiWK-wxB4-D5jlbs06y0_VdCNGrHcXmI4AQYyiejQ=s64",
      "userId": "02741529306535878932"
     },
     "user_tz": -60
    },
    "id": "2BPA1q_yTZNT",
    "outputId": "1c051fdd-8d36-459e-9fe7-8730b835f590"
   },
   "outputs": [],
   "source": [
    "import sys\n",
    "import os\n",
    "from pathlib import Path\n",
    "import csv\n",
    "import json\n",
    "import numpy as np\n",
    "import matplotlib.pyplot as plt\n",
    "import cv2\n",
    "from rich.progress import Progress\n",
    "\n",
    "from utils import get_abs_path\n",
    "from a_star import find_path"
   ]
  },
  {
   "cell_type": "code",
   "execution_count": null,
   "metadata": {},
   "outputs": [],
   "source": [
    "def cv2_imshow(img):\n",
    "    img = np.concatenate((img[:,:,2:3], img[:,:,1:2], img[:,:,0:1]), axis=2)\n",
    "    plt.imshow(img)\n",
    "    plt.show()\n",
    "\n",
    "\n",
    "def load_images(images_path, json_path):\n",
    "    data = {}\n",
    "    images = []\n",
    "    files = []\n",
    "\n",
    "    for (dirpath, dirnames, filenames) in os.walk(json_path):\n",
    "        files.extend(filenames)\n",
    "        break\n",
    "\n",
    "    for (dirpath, dirnames, filenames) in os.walk(images_path):\n",
    "        images.extend(filenames)\n",
    "        break\n",
    "\n",
    "    images = [f for f in images if f.endswith('.png')]\n",
    "\n",
    "    # remove already generated paths\n",
    "    for file in files:\n",
    "        # remove '.json' and add '.png'\n",
    "        file = file[0:-5] + '.png'\n",
    "        if file in images:\n",
    "            images.remove(file)\n",
    "\n",
    "    images = sorted(images)\n",
    "    with Progress() as progress:\n",
    "        task = progress.add_task('[yellow]Loading images...', total=len(images))\n",
    "\n",
    "        for i in range(len(images)):\n",
    "            img_path = images_path + images[i]\n",
    "            img = cv2.imread(img_path)\n",
    "            data[images[i]] = img\n",
    "            progress.update(task, advance=1)\n",
    "\n",
    "    return data"
   ]
  },
  {
   "cell_type": "code",
   "execution_count": null,
   "metadata": {
    "executionInfo": {
     "elapsed": 14,
     "status": "ok",
     "timestamp": 1641325928174,
     "user": {
      "displayName": "AlterArm",
      "photoUrl": "https://lh3.googleusercontent.com/a-/AOh14GiWK-wxB4-D5jlbs06y0_VdCNGrHcXmI4AQYyiejQ=s64",
      "userId": "02741529306535878932"
     },
     "user_tz": -60
    },
    "id": "73yM1NT7UnxC"
   },
   "outputs": [],
   "source": [
    "def get_coordinates(images_path, points_filename):\n",
    "    coordinates = {}\n",
    "    with open(images_path+points_filename, newline='') as f:\n",
    "        reader = csv.reader(f)\n",
    "        reader = list(reader)\n",
    "        for line in reader:\n",
    "            map_name = line[0]\n",
    "            points_coordinates = line[1:]\n",
    "            coordinates[map_name] = points_coordinates\n",
    "    return coordinates\n",
    "\n",
    "\n",
    "def load_data(images_path, json_path, points_filename):\n",
    "    images = load_images(images_path, json_path)\n",
    "    coordinates = get_coordinates(images_path, points_filename)\n",
    "    return images, coordinates"
   ]
  },
  {
   "cell_type": "markdown",
   "metadata": {
    "id": "o-Y_hGaheDhq"
   },
   "source": [
    "## A* planning algorithm"
   ]
  },
  {
   "cell_type": "code",
   "execution_count": null,
   "metadata": {
    "executionInfo": {
     "elapsed": 372,
     "status": "ok",
     "timestamp": 1641325929044,
     "user": {
      "displayName": "AlterArm",
      "photoUrl": "https://lh3.googleusercontent.com/a-/AOh14GiWK-wxB4-D5jlbs06y0_VdCNGrHcXmI4AQYyiejQ=s64",
      "userId": "02741529306535878932"
     },
     "user_tz": -60
    },
    "id": "-e1XDHfvQa2t"
   },
   "outputs": [],
   "source": [
    "def mark_path_points(oryg_map, oryg_path):\n",
    "    map = np.copy(oryg_map)\n",
    "    path = oryg_path.copy()\n",
    "    start_point = path[0]\n",
    "    goal_point = path[-1]\n",
    "    path = path[1:-1]\n",
    "\n",
    "    # y, x\n",
    "    directions_dict = {\n",
    "        (-1,-1): 'NW',\n",
    "        (-1, 0): 'N',\n",
    "        (-1, 1): 'NE',\n",
    "        ( 0, 1): 'E',\n",
    "        ( 1, 1): 'SE',\n",
    "        ( 1, 0): 'S',\n",
    "        ( 1,-1): 'SW',\n",
    "        ( 0,-1): 'W'\n",
    "    }\n",
    "\n",
    "    mark_points = []\n",
    "    last_x = start_point[0]\n",
    "    last_y = start_point[1]\n",
    "    last_dir = None\n",
    "\n",
    "    for curr_x, curr_y in path:\n",
    "        x_change = curr_x - last_x\n",
    "        y_change = curr_y - last_y\n",
    "        dir = directions_dict[(y_change, x_change)]\n",
    "\n",
    "        if dir is not last_dir:\n",
    "            mark_points.append( (last_x, last_y) )\n",
    "\n",
    "        last_x = curr_x\n",
    "        last_y = curr_y\n",
    "        last_dir = dir\n",
    "\n",
    "    mark_points.append(goal_point)\n",
    "\n",
    "    for x, y in mark_points:\n",
    "        map[y, x, 1] = 0\n",
    "        map[y, x, 2] = 255\n",
    "\n",
    "    return map, mark_points"
   ]
  },
  {
   "cell_type": "code",
   "execution_count": null,
   "metadata": {
    "executionInfo": {
     "elapsed": 10,
     "status": "ok",
     "timestamp": 1641325929045,
     "user": {
      "displayName": "AlterArm",
      "photoUrl": "https://lh3.googleusercontent.com/a-/AOh14GiWK-wxB4-D5jlbs06y0_VdCNGrHcXmI4AQYyiejQ=s64",
      "userId": "02741529306535878932"
     },
     "user_tz": -60
    },
    "id": "5B5-__EXRAjU"
   },
   "outputs": [],
   "source": [
    "def generate_point_paths(dataset, coordinates, results_path):\n",
    "\n",
    "    size = len(dataset)\n",
    "    with Progress() as progress:\n",
    "        task = progress.add_task('[yellow]Loading images...', total=size)\n",
    "\n",
    "    for map_name in dataset:\n",
    "        paths = {}\n",
    "        print(map_name)\n",
    "        map = dataset[map_name]\n",
    "        coor = coordinates[map_name]\n",
    "\n",
    "        map, path = find_path(map, coor)\n",
    "        map, points = mark_path_points(map, path)\n",
    "\n",
    "        paths[map_name] = points\n",
    "\n",
    "        # remove .png from name and add json\n",
    "        map_name = map_name[0:-4] + '.json'\n",
    "        print(map_name)\n",
    "        with open(results_path +  map_name, 'w') as f:\n",
    "            json.dump(paths, f)\n",
    "\n",
    "        # cv2_imshow(map)\n",
    "        progress.update(task, advance=1)\n"
   ]
  },
  {
   "cell_type": "code",
   "execution_count": null,
   "metadata": {
    "colab": {
     "base_uri": "https://localhost:8080/",
     "height": 1000,
     "referenced_widgets": [
      "86c4cf9b041f4c11a9d72845240e8e4f",
      "144520969ab843258f2e382bdf1fe943"
     ]
    },
    "executionInfo": {
     "elapsed": 5188,
     "status": "ok",
     "timestamp": 1641325934224,
     "user": {
      "displayName": "AlterArm",
      "photoUrl": "https://lh3.googleusercontent.com/a-/AOh14GiWK-wxB4-D5jlbs06y0_VdCNGrHcXmI4AQYyiejQ=s64",
      "userId": "02741529306535878932"
     },
     "user_tz": -60
    },
    "id": "ljD1yooHRNVp",
    "outputId": "63ea0d0a-843b-467d-dc73-06bd21763432"
   },
   "outputs": [],
   "source": [
    "project_path = get_abs_path(1)\n",
    "project_path += '/data/'\n",
    "dirs = ['train', 'valid', 'test']\n",
    "maps_points_filename = 'maps_points.csv'\n",
    "\n",
    "for dir in dirs:\n",
    "    print(dir)\n",
    "    images_path = project_path + dir + '/maps/'\n",
    "    json_path = project_path + dir + '/planned_maps/'\n",
    "    Path(images_path).mkdir(parents=True, exist_ok=True)\n",
    "    Path(json_path).mkdir(parents=True, exist_ok=True)\n",
    "\n",
    "    dataset, coordinates = load_data(images_path, json_path, maps_points_filename)\n",
    "\n",
    "    for key in dataset:\n",
    "        cv2_imshow(dataset[key])\n",
    "        break\n",
    "\n",
    "    generate_point_paths(dataset, coordinates, json_path)"
   ]
  }
 ],
 "metadata": {
  "colab": {
   "authorship_tag": "ABX9TyNn+PLX8xwvZ4BelWdhHjqy",
   "collapsed_sections": [],
   "name": "A_star_for_maps.ipynb",
   "provenance": []
  },
  "kernelspec": {
   "display_name": "Python 3",
   "name": "python3"
  },
  "language_info": {
   "codemirror_mode": {
    "name": "ipython",
    "version": 3
   },
   "file_extension": ".py",
   "mimetype": "text/x-python",
   "name": "python",
   "nbconvert_exporter": "python",
   "pygments_lexer": "ipython3",
   "version": "3.9.7"
  },
  "widgets": {
   "application/vnd.jupyter.widget-state+json": {
    "144520969ab843258f2e382bdf1fe943": {
     "model_module": "@jupyter-widgets/base",
     "model_module_version": "1.2.0",
     "model_name": "LayoutModel",
     "state": {
      "_model_module": "@jupyter-widgets/base",
      "_model_module_version": "1.2.0",
      "_model_name": "LayoutModel",
      "_view_count": null,
      "_view_module": "@jupyter-widgets/base",
      "_view_module_version": "1.2.0",
      "_view_name": "LayoutView",
      "align_content": null,
      "align_items": null,
      "align_self": null,
      "border": null,
      "bottom": null,
      "display": null,
      "flex": null,
      "flex_flow": null,
      "grid_area": null,
      "grid_auto_columns": null,
      "grid_auto_flow": null,
      "grid_auto_rows": null,
      "grid_column": null,
      "grid_gap": null,
      "grid_row": null,
      "grid_template_areas": null,
      "grid_template_columns": null,
      "grid_template_rows": null,
      "height": null,
      "justify_content": null,
      "justify_items": null,
      "left": null,
      "margin": null,
      "max_height": null,
      "max_width": null,
      "min_height": null,
      "min_width": null,
      "object_fit": null,
      "object_position": null,
      "order": null,
      "overflow": null,
      "overflow_x": null,
      "overflow_y": null,
      "padding": null,
      "right": null,
      "top": null,
      "visibility": null,
      "width": null
     }
    },
    "5fb4b754bef04e55b2b227bd9e8582a1": {
     "model_module": "@jupyter-widgets/base",
     "model_module_version": "1.2.0",
     "model_name": "LayoutModel",
     "state": {
      "_model_module": "@jupyter-widgets/base",
      "_model_module_version": "1.2.0",
      "_model_name": "LayoutModel",
      "_view_count": null,
      "_view_module": "@jupyter-widgets/base",
      "_view_module_version": "1.2.0",
      "_view_name": "LayoutView",
      "align_content": null,
      "align_items": null,
      "align_self": null,
      "border": null,
      "bottom": null,
      "display": null,
      "flex": null,
      "flex_flow": null,
      "grid_area": null,
      "grid_auto_columns": null,
      "grid_auto_flow": null,
      "grid_auto_rows": null,
      "grid_column": null,
      "grid_gap": null,
      "grid_row": null,
      "grid_template_areas": null,
      "grid_template_columns": null,
      "grid_template_rows": null,
      "height": null,
      "justify_content": null,
      "justify_items": null,
      "left": null,
      "margin": null,
      "max_height": null,
      "max_width": null,
      "min_height": null,
      "min_width": null,
      "object_fit": null,
      "object_position": null,
      "order": null,
      "overflow": null,
      "overflow_x": null,
      "overflow_y": null,
      "padding": null,
      "right": null,
      "top": null,
      "visibility": null,
      "width": null
     }
    },
    "7b30480b1a49430b8f416c02707197b2": {
     "model_module": "@jupyter-widgets/output",
     "model_module_version": "1.0.0",
     "model_name": "OutputModel",
     "state": {
      "_dom_classes": [],
      "_model_module": "@jupyter-widgets/output",
      "_model_module_version": "1.0.0",
      "_model_name": "OutputModel",
      "_view_count": null,
      "_view_module": "@jupyter-widgets/output",
      "_view_module_version": "1.0.0",
      "_view_name": "OutputView",
      "layout": "IPY_MODEL_5fb4b754bef04e55b2b227bd9e8582a1",
      "msg_id": "",
      "outputs": [
       {
        "data": {
         "text/html": "<pre style=\"white-space:pre;overflow-x:auto;line-height:normal;font-family:Menlo,'DejaVu Sans Mono',consolas,'Courier New',monospace\"><span style=\"color: #808000; text-decoration-color: #808000\">Loading images...</span> <span style=\"color: #3a3a3a; text-decoration-color: #3a3a3a\">━━━━━━━━━━━━━━━━━━━━━━━━━━━━━━━━━━━━━━━━</span> <span style=\"color: #800080; text-decoration-color: #800080\">  0%</span> <span style=\"color: #008080; text-decoration-color: #008080\">-:--:--</span>\n</pre>\n",
         "text/plain": "\u001b[33mLoading images...\u001b[0m \u001b[38;5;237m━━━━━━━━━━━━━━━━━━━━━━━━━━━━━━━━━━━━━━━━\u001b[0m \u001b[35m  0%\u001b[0m \u001b[36m-:--:--\u001b[0m\n"
        },
        "metadata": {},
        "output_type": "display_data"
       }
      ]
     }
    },
    "86c4cf9b041f4c11a9d72845240e8e4f": {
     "model_module": "@jupyter-widgets/output",
     "model_module_version": "1.0.0",
     "model_name": "OutputModel",
     "state": {
      "_dom_classes": [],
      "_model_module": "@jupyter-widgets/output",
      "_model_module_version": "1.0.0",
      "_model_name": "OutputModel",
      "_view_count": null,
      "_view_module": "@jupyter-widgets/output",
      "_view_module_version": "1.0.0",
      "_view_name": "OutputView",
      "layout": "IPY_MODEL_144520969ab843258f2e382bdf1fe943",
      "msg_id": "",
      "outputs": [
       {
        "data": {
         "text/html": "<pre style=\"white-space:pre;overflow-x:auto;line-height:normal;font-family:Menlo,'DejaVu Sans Mono',consolas,'Courier New',monospace\"><span style=\"color: #808000; text-decoration-color: #808000\">Loading images...</span> <span style=\"color: #f92672; text-decoration-color: #f92672\">━━━━━━━━━━━━━━━━━━━━━━━━━━━━━━━━━━━━</span><span style=\"color: #3a3a3a; text-decoration-color: #3a3a3a\">╺━━━</span> <span style=\"color: #800080; text-decoration-color: #800080\"> 90%</span> <span style=\"color: #008080; text-decoration-color: #008080\">0:00:01</span>\n</pre>\n",
         "text/plain": "\u001b[33mLoading images...\u001b[0m \u001b[38;2;249;38;114m━━━━━━━━━━━━━━━━━━━━━━━━━━━━━━━━━━━━\u001b[0m\u001b[38;5;237m╺\u001b[0m\u001b[38;5;237m━━━\u001b[0m \u001b[35m 90%\u001b[0m \u001b[36m0:00:01\u001b[0m\n"
        },
        "metadata": {},
        "output_type": "display_data"
       }
      ]
     }
    },
    "bb31349108ae4326927a11301c4739d4": {
     "model_module": "@jupyter-widgets/base",
     "model_module_version": "1.2.0",
     "model_name": "LayoutModel",
     "state": {
      "_model_module": "@jupyter-widgets/base",
      "_model_module_version": "1.2.0",
      "_model_name": "LayoutModel",
      "_view_count": null,
      "_view_module": "@jupyter-widgets/base",
      "_view_module_version": "1.2.0",
      "_view_name": "LayoutView",
      "align_content": null,
      "align_items": null,
      "align_self": null,
      "border": null,
      "bottom": null,
      "display": null,
      "flex": null,
      "flex_flow": null,
      "grid_area": null,
      "grid_auto_columns": null,
      "grid_auto_flow": null,
      "grid_auto_rows": null,
      "grid_column": null,
      "grid_gap": null,
      "grid_row": null,
      "grid_template_areas": null,
      "grid_template_columns": null,
      "grid_template_rows": null,
      "height": null,
      "justify_content": null,
      "justify_items": null,
      "left": null,
      "margin": null,
      "max_height": null,
      "max_width": null,
      "min_height": null,
      "min_width": null,
      "object_fit": null,
      "object_position": null,
      "order": null,
      "overflow": null,
      "overflow_x": null,
      "overflow_y": null,
      "padding": null,
      "right": null,
      "top": null,
      "visibility": null,
      "width": null
     }
    },
    "c002fbde087e40a59a132954b8e6313a": {
     "model_module": "@jupyter-widgets/output",
     "model_module_version": "1.0.0",
     "model_name": "OutputModel",
     "state": {
      "_dom_classes": [],
      "_model_module": "@jupyter-widgets/output",
      "_model_module_version": "1.0.0",
      "_model_name": "OutputModel",
      "_view_count": null,
      "_view_module": "@jupyter-widgets/output",
      "_view_module_version": "1.0.0",
      "_view_name": "OutputView",
      "layout": "IPY_MODEL_bb31349108ae4326927a11301c4739d4",
      "msg_id": "",
      "outputs": [
       {
        "data": {
         "text/html": "<pre style=\"white-space:pre;overflow-x:auto;line-height:normal;font-family:Menlo,'DejaVu Sans Mono',consolas,'Courier New',monospace\"><span style=\"color: #808000; text-decoration-color: #808000\">Loading coordinates...</span> <span style=\"color: #f92672; text-decoration-color: #f92672\">━━━━━━━━━━━━━━━━━━━━━━━━━━━━</span><span style=\"color: #3a3a3a; text-decoration-color: #3a3a3a\">╺━━━━━━━━━━━</span> <span style=\"color: #800080; text-decoration-color: #800080\"> 70%</span> <span style=\"color: #008080; text-decoration-color: #008080\">0:00:01</span>\n</pre>\n",
         "text/plain": "\u001b[33mLoading coordinates...\u001b[0m \u001b[38;2;249;38;114m━━━━━━━━━━━━━━━━━━━━━━━━━━━━\u001b[0m\u001b[38;5;237m╺\u001b[0m\u001b[38;5;237m━━━━━━━━━━━\u001b[0m \u001b[35m 70%\u001b[0m \u001b[36m0:00:01\u001b[0m\n"
        },
        "metadata": {},
        "output_type": "display_data"
       }
      ]
     }
    }
   }
  }
 },
 "nbformat": 4,
 "nbformat_minor": 0
}
