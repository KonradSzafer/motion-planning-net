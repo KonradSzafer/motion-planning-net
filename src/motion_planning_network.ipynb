{
 "cells": [
  {
   "cell_type": "code",
   "execution_count": 6,
   "metadata": {
    "colab": {
     "base_uri": "https://localhost:8080/"
    },
    "executionInfo": {
     "elapsed": 2334,
     "status": "ok",
     "timestamp": 1641398061619,
     "user": {
      "displayName": "AlterArm",
      "photoUrl": "https://lh3.googleusercontent.com/a-/AOh14GiWK-wxB4-D5jlbs06y0_VdCNGrHcXmI4AQYyiejQ=s64",
      "userId": "02741529306535878932"
     },
     "user_tz": -60
    },
    "id": "z20D5QbbqZcf",
    "outputId": "d7097c44-925b-4504-e9cb-de7400bc3494"
   },
   "outputs": [],
   "source": [
    "import sys\n",
    "import os\n",
    "from pathlib import Path\n",
    "import glob\n",
    "import json\n",
    "import numpy as np\n",
    "import matplotlib.pyplot as plt\n",
    "from sklearn.model_selection import train_test_split\n",
    "import cv2\n",
    "from rich.progress import Progress\n",
    "\n",
    "import torch\n",
    "from torch import nn, Tensor\n",
    "from torch.utils.data import DataLoader, Dataset\n",
    "from torch.autograd import Variable\n",
    "import torch.nn.functional as F\n",
    "from torchvision import datasets\n",
    "from torchvision.io import read_image\n",
    "import torchvision.transforms as tt\n",
    "\n",
    "from utils import get_abs_path, steer_to, lazy_states_contraction, is_feasible"
   ]
  },
  {
   "cell_type": "code",
   "execution_count": 7,
   "metadata": {
    "executionInfo": {
     "elapsed": 3,
     "status": "ok",
     "timestamp": 1641398061619,
     "user": {
      "displayName": "AlterArm",
      "photoUrl": "https://lh3.googleusercontent.com/a-/AOh14GiWK-wxB4-D5jlbs06y0_VdCNGrHcXmI4AQYyiejQ=s64",
      "userId": "02741529306535878932"
     },
     "user_tz": -60
    },
    "id": "YyuGAmOQsX_d"
   },
   "outputs": [],
   "source": [
    "def cv2_imshow(img):\n",
    "    img = np.concatenate((img[:,:,2:3], img[:,:,1:2], img[:,:,0:1]), axis=2)\n",
    "    plt.imshow(img, cmap='gray')\n",
    "    plt.show()\n",
    "\n",
    "\n",
    "def display_image(image):\n",
    "    print(image.shape)\n",
    "    image = image * 255\n",
    "    image = image.permute(1, 2, 0).detach().numpy()\n",
    "    cv2_imshow(image)"
   ]
  },
  {
   "cell_type": "code",
   "execution_count": 22,
   "metadata": {
    "executionInfo": {
     "elapsed": 13,
     "status": "ok",
     "timestamp": 1641398064796,
     "user": {
      "displayName": "AlterArm",
      "photoUrl": "https://lh3.googleusercontent.com/a-/AOh14GiWK-wxB4-D5jlbs06y0_VdCNGrHcXmI4AQYyiejQ=s64",
      "userId": "02741529306535878932"
     },
     "user_tz": -60
    },
    "id": "B41Pwj44qK5q"
   },
   "outputs": [],
   "source": [
    "project_path = get_abs_path(1)\n",
    "\n",
    "model_dir = project_path + '/models/'\n",
    "enet_filename = model_dir + 'enet.pt'\n",
    "pnet_filename = model_dir + 'pnet.pt'\n",
    "\n",
    "data_path = project_path + '/data/'\n",
    "encoder_images_dir = data_path + 'encoder_images/'\n",
    "train_images_dir = data_path + 'train/maps/'\n",
    "train_paths_dir = data_path + 'train/planned_maps/'\n",
    "valid_images_dir = data_path + 'valid/maps/'\n",
    "valid_paths_dir = data_path + 'valid/planned_maps/'\n",
    "test_images_dir = data_path + 'test/maps/'\n",
    "test_paths_dir = data_path + 'test/planned_maps/'\n",
    "\n",
    "train_enet = False\n",
    "train_pnet = True"
   ]
  },
  {
   "cell_type": "markdown",
   "metadata": {},
   "source": [
    "## **Create dataset for training encoder**"
   ]
  },
  {
   "cell_type": "code",
   "execution_count": 4,
   "metadata": {
    "executionInfo": {
     "elapsed": 13,
     "status": "ok",
     "timestamp": 1641398064797,
     "user": {
      "displayName": "AlterArm",
      "photoUrl": "https://lh3.googleusercontent.com/a-/AOh14GiWK-wxB4-D5jlbs06y0_VdCNGrHcXmI4AQYyiejQ=s64",
      "userId": "02741529306535878932"
     },
     "user_tz": -60
    },
    "id": "jZs2xxFKxDSu"
   },
   "outputs": [],
   "source": [
    "class ImageDataset(Dataset):\n",
    "\n",
    "    def __init__(self, images_paths):\n",
    "        self.images_paths = images_paths\n",
    "\n",
    "    def __len__(self):\n",
    "        return len(self.images_paths)\n",
    "\n",
    "    def __getitem__(self, idx):\n",
    "        image_path = self.images_paths[idx]\n",
    "        image = torch.Tensor(plt.imread(image_path))\n",
    "        image = image.permute(2,1,0)\n",
    "        image = image[2, :, :]\n",
    "        return image, image"
   ]
  },
  {
   "cell_type": "code",
   "execution_count": 11,
   "metadata": {
    "executionInfo": {
     "elapsed": 12,
     "status": "ok",
     "timestamp": 1641398064797,
     "user": {
      "displayName": "AlterArm",
      "photoUrl": "https://lh3.googleusercontent.com/a-/AOh14GiWK-wxB4-D5jlbs06y0_VdCNGrHcXmI4AQYyiejQ=s64",
      "userId": "02741529306535878932"
     },
     "user_tz": -60
    },
    "id": "okHRDeQhxbig"
   },
   "outputs": [],
   "source": [
    "encoder_images_paths = glob.glob(encoder_images_dir + '*.png')\n",
    "train_encoder_paths, test_encoder_paths = train_test_split(encoder_images_paths, test_size=0.2)\n",
    "valid_encoder_paths, test_encoder_paths = train_test_split(test_encoder_paths, test_size=0.5)\n",
    "\n",
    "train_encoder_data = ImageDataset(train_encoder_paths)\n",
    "valid_encoder_data = ImageDataset(valid_encoder_paths)\n",
    "test_encoder_data = ImageDataset(test_encoder_paths)\n",
    "\n",
    "batch_size = 5 #16\n",
    "train_encoder_dataloader = DataLoader(train_encoder_data, batch_size=batch_size, shuffle=True, pin_memory=True)\n",
    "valid_encoder_dataloader = DataLoader(valid_encoder_data, batch_size=batch_size, shuffle=True, pin_memory=True)\n",
    "test_encoder_dataloader = DataLoader(test_encoder_data, batch_size=batch_size, shuffle=True, pin_memory=True)"
   ]
  },
  {
   "cell_type": "code",
   "execution_count": 12,
   "metadata": {
    "colab": {
     "base_uri": "https://localhost:8080/",
     "height": 137
    },
    "executionInfo": {
     "elapsed": 12,
     "status": "ok",
     "timestamp": 1641398064797,
     "user": {
      "displayName": "AlterArm",
      "photoUrl": "https://lh3.googleusercontent.com/a-/AOh14GiWK-wxB4-D5jlbs06y0_VdCNGrHcXmI4AQYyiejQ=s64",
      "userId": "02741529306535878932"
     },
     "user_tz": -60
    },
    "id": "QUFPEkCGuZuI",
    "outputId": "320cd75b-2b78-45e9-eb07-bff2870114b3"
   },
   "outputs": [
    {
     "name": "stdout",
     "output_type": "stream",
     "text": [
      "torch.Size([1, 120, 120])\n"
     ]
    },
    {
     "data": {
      "image/png": "[encoded data removed]",
      "text/plain": [
       "<Figure size 432x288 with 1 Axes>"
      ]
     },
     "metadata": {
      "needs_background": "light"
     },
     "output_type": "display_data"
    }
   ],
   "source": [
    "train_features, train_labels = next(iter(train_encoder_dataloader))\n",
    "display_image(train_features[0].unsqueeze(0))"
   ]
  },
  {
   "cell_type": "code",
   "execution_count": 13,
   "metadata": {
    "colab": {
     "base_uri": "https://localhost:8080/"
    },
    "executionInfo": {
     "elapsed": 12,
     "status": "ok",
     "timestamp": 1641398064798,
     "user": {
      "displayName": "AlterArm",
      "photoUrl": "https://lh3.googleusercontent.com/a-/AOh14GiWK-wxB4-D5jlbs06y0_VdCNGrHcXmI4AQYyiejQ=s64",
      "userId": "02741529306535878932"
     },
     "user_tz": -60
    },
    "id": "8v4ztNn-x2Mf",
    "outputId": "fe0c867e-11c1-46bd-a566-cab6fcfb650c"
   },
   "outputs": [
    {
     "name": "stdout",
     "output_type": "stream",
     "text": [
      "Using cpu device\n"
     ]
    }
   ],
   "source": [
    "device = 'cuda' if torch.cuda.is_available() else 'cpu'\n",
    "print('Using {0} device'.format(device))"
   ]
  },
  {
   "cell_type": "markdown",
   "metadata": {},
   "source": [
    "## **Create encoder model**"
   ]
  },
  {
   "cell_type": "code",
   "execution_count": 14,
   "metadata": {},
   "outputs": [],
   "source": [
    "class Encoder(nn.Module):\n",
    "\tdef __init__(self, input_size):\n",
    "\t\tsuper(Encoder, self).__init__()\n",
    "\t\tself.flatten = nn.Flatten()\n",
    "\t\tself.dense1 = nn.Sequential(nn.Linear(input_size, 1512), nn.PReLU())\n",
    "\t\tself.dense2 = nn.Sequential(nn.Linear(1512, 556), nn.PReLU())\n",
    "\t\tself.dense3 = nn.Sequential(nn.Linear(556, 128), nn.PReLU())\n",
    "\t\tself.dense4 = nn.Linear(128, 32)\n",
    "\n",
    "\tdef forward(self, x):\n",
    "\t\tx = self.flatten(x)\n",
    "\t\tx = self.dense1(x)\n",
    "\t\tx = self.dense2(x)\n",
    "\t\tx = self.dense3(x)\n",
    "\t\tx = self.dense4(x)\n",
    "\t\treturn x\n",
    "\n",
    "\n",
    "class Decoder(nn.Module):\n",
    "\tdef __init__(self, output_size):\n",
    "\t\tsuper(Decoder, self).__init__()\n",
    "\t\tself.dense1 = nn.Sequential(nn.Linear(32, 128), nn.PReLU())\n",
    "\t\tself.dense2 = nn.Sequential(nn.Linear(128, 556), nn.PReLU())\n",
    "\t\tself.dense3 = nn.Sequential(nn.Linear(556, 1512), nn.PReLU())\n",
    "\t\tself.dense4 = nn.Sequential(nn.Linear(1512, output_size))\n",
    "\t\tself.unflatten = nn.Unflatten(1, (120, 120))\n",
    "\n",
    "\tdef forward(self, x):\n",
    "\t\tx = self.dense1(x)\n",
    "\t\tx = self.dense2(x)\n",
    "\t\tx = self.dense3(x)\n",
    "\t\tx = self.dense4(x)\n",
    "\t\tx = self.unflatten(x)\n",
    "\t\treturn x"
   ]
  },
  {
   "cell_type": "code",
   "execution_count": 15,
   "metadata": {},
   "outputs": [],
   "source": [
    "class ResUNet(nn.Module):\n",
    "    def __init__(self, input_size):\n",
    "        super(ResUNet, self).__init__()\n",
    "        self.Encoder = Encoder(input_size)\n",
    "        self.Decoder = Decoder(input_size)\n",
    "\n",
    "    def forward(self, x):\n",
    "        x = self.Encoder(x)\n",
    "        x = self.Decoder(x)\n",
    "        return x\n",
    "\n",
    "Enet = ResUNet(14400).to(device)"
   ]
  },
  {
   "cell_type": "markdown",
   "metadata": {},
   "source": [
    "## **Train Encoder**"
   ]
  },
  {
   "cell_type": "code",
   "execution_count": 16,
   "metadata": {
    "executionInfo": {
     "elapsed": 11,
     "status": "ok",
     "timestamp": 1641398064800,
     "user": {
      "displayName": "AlterArm",
      "photoUrl": "https://lh3.googleusercontent.com/a-/AOh14GiWK-wxB4-D5jlbs06y0_VdCNGrHcXmI4AQYyiejQ=s64",
      "userId": "02741529306535878932"
     },
     "user_tz": -60
    },
    "id": "3jCsfnuo2_VY"
   },
   "outputs": [],
   "source": [
    "def loss_fn(model, output, target):\n",
    "\n",
    "    mse_loss = nn.MSELoss()\n",
    "\n",
    "    key = str(list(model.state_dict().keys())[-2])\n",
    "    last_weigths = model.state_dict()[key]\n",
    "\n",
    "    mse = mse_loss(output, target)\n",
    "    lam = 1e-3\n",
    "    contractive_loss = torch.sum(Variable(last_weigths)**2, dim=1).sum().mul_(lam)\n",
    "\n",
    "    return mse + contractive_loss\n",
    "\n",
    "\n",
    "def train(model, optimizer, train_dataloader, valid_dataloader):\n",
    "\n",
    "    for i in range(epochs):\n",
    "        total_train_loss = 0\n",
    "        total_valid_loss = 0\n",
    "\n",
    "        model.train()\n",
    "        for X, y in train_dataloader:\n",
    "            X, y = X.to(device), y.to(device)\n",
    "\n",
    "            pred = model(X)\n",
    "            loss = loss_fn(model, pred, y)\n",
    "            total_train_loss += loss\n",
    "\n",
    "            optimizer.zero_grad()\n",
    "            loss.backward()\n",
    "            optimizer.step()\n",
    "\n",
    "        with torch.no_grad():\n",
    "            for X, y in valid_dataloader:\n",
    "                X, y = X.to(device), y.to(device)\n",
    "\n",
    "                pred = model(X)\n",
    "                loss = loss_fn(model, pred, y)\n",
    "                total_valid_loss += loss\n",
    "\n",
    "        print('Epoch %d/%d' % (i+1, epochs))\n",
    "        print('Train loss %f Valid loss %f' % (total_train_loss / len(train_dataloader), total_valid_loss / len(valid_dataloader)))"
   ]
  },
  {
   "cell_type": "code",
   "execution_count": 17,
   "metadata": {
    "executionInfo": {
     "elapsed": 492,
     "status": "ok",
     "timestamp": 1641398065281,
     "user": {
      "displayName": "AlterArm",
      "photoUrl": "https://lh3.googleusercontent.com/a-/AOh14GiWK-wxB4-D5jlbs06y0_VdCNGrHcXmI4AQYyiejQ=s64",
      "userId": "02741529306535878932"
     },
     "user_tz": -60
    },
    "id": "NGCOrIAd5EiH"
   },
   "outputs": [],
   "source": [
    "def test(model, dataloader):\n",
    "    test_loss = 0\n",
    "    with torch.no_grad():\n",
    "        for X, y in dataloader:\n",
    "            X, y = X.to(device), y.to(device)\n",
    "            pred = model(X)\n",
    "            test_loss += loss_fn(model, pred, y).item()\n",
    "\n",
    "    test_loss /= len(dataloader)\n",
    "    print(f'Test loss: {test_loss:>8f} \\n')"
   ]
  },
  {
   "cell_type": "code",
   "execution_count": 19,
   "metadata": {
    "colab": {
     "base_uri": "https://localhost:8080/"
    },
    "executionInfo": {
     "elapsed": 9190,
     "status": "ok",
     "timestamp": 1641398074469,
     "user": {
      "displayName": "AlterArm",
      "photoUrl": "https://lh3.googleusercontent.com/a-/AOh14GiWK-wxB4-D5jlbs06y0_VdCNGrHcXmI4AQYyiejQ=s64",
      "userId": "02741529306535878932"
     },
     "user_tz": -60
    },
    "id": "bYtDJkXN36hr",
    "outputId": "ccda881d-d536-446c-c2c2-10e059ba8673"
   },
   "outputs": [
    {
     "name": "stdout",
     "output_type": "stream",
     "text": [
      "Epoch 1/60\n",
      "Train loss 5.007332 Valid loss 5.049337\n",
      "Epoch 2/60\n",
      "Train loss 5.006386 Valid loss 5.053350\n",
      "Epoch 3/60\n",
      "Train loss 4.967834 Valid loss 5.045770\n",
      "Epoch 4/60\n",
      "Train loss 4.945927 Valid loss 5.053744\n",
      "Epoch 5/60\n",
      "Train loss 4.921277 Valid loss 5.048653\n",
      "Epoch 6/60\n",
      "Train loss 4.920617 Valid loss 5.049233\n",
      "Epoch 7/60\n",
      "Train loss 4.920264 Valid loss 5.045674\n",
      "Epoch 8/60\n",
      "Train loss 4.915776 Valid loss 5.051190\n",
      "Epoch 9/60\n",
      "Train loss 4.916011 Valid loss 5.048546\n",
      "Epoch 10/60\n",
      "Train loss 4.913297 Valid loss 5.048593\n",
      "Epoch 11/60\n",
      "Train loss 4.913216 Valid loss 5.049667\n",
      "Epoch 12/60\n",
      "Train loss 4.912775 Valid loss 5.049252\n",
      "Epoch 13/60\n",
      "Train loss 4.911942 Valid loss 5.048669\n",
      "Epoch 14/60\n",
      "Train loss 4.912378 Valid loss 5.049188\n",
      "Epoch 15/60\n",
      "Train loss 4.912048 Valid loss 5.049391\n",
      "Epoch 16/60\n",
      "Train loss 4.912246 Valid loss 5.048979\n",
      "Epoch 17/60\n",
      "Train loss 4.912199 Valid loss 5.049432\n",
      "Epoch 18/60\n",
      "Train loss 4.912133 Valid loss 5.049139\n",
      "Epoch 19/60\n",
      "Train loss 4.911911 Valid loss 5.049195\n",
      "Epoch 20/60\n",
      "Train loss 4.912583 Valid loss 5.048920\n",
      "Epoch 21/60\n",
      "Train loss 4.912312 Valid loss 5.049673\n",
      "Epoch 22/60\n",
      "Train loss 4.912455 Valid loss 5.049389\n",
      "Epoch 23/60\n",
      "Train loss 4.912010 Valid loss 5.049303\n",
      "Epoch 24/60\n",
      "Train loss 4.912455 Valid loss 5.048732\n",
      "Epoch 25/60\n",
      "Train loss 4.912153 Valid loss 5.048992\n",
      "Epoch 26/60\n",
      "Train loss 4.912554 Valid loss 5.049334\n",
      "Epoch 27/60\n",
      "Train loss 4.912587 Valid loss 5.049253\n",
      "Epoch 28/60\n",
      "Train loss 4.912400 Valid loss 5.049787\n",
      "Epoch 29/60\n",
      "Train loss 4.912387 Valid loss 5.048612\n",
      "Epoch 30/60\n",
      "Train loss 4.912009 Valid loss 5.049826\n",
      "Epoch 31/60\n",
      "Train loss 4.912361 Valid loss 5.048623\n",
      "Epoch 32/60\n",
      "Train loss 4.912067 Valid loss 5.049461\n",
      "Epoch 33/60\n",
      "Train loss 4.911902 Valid loss 5.048882\n",
      "Epoch 34/60\n",
      "Train loss 4.911848 Valid loss 5.049301\n",
      "Epoch 35/60\n",
      "Train loss 4.911886 Valid loss 5.048984\n",
      "Epoch 36/60\n",
      "Train loss 4.911850 Valid loss 5.049196\n",
      "Epoch 37/60\n",
      "Train loss 4.911881 Valid loss 5.049062\n",
      "Epoch 38/60\n",
      "Train loss 4.911869 Valid loss 5.049148\n",
      "Epoch 39/60\n",
      "Train loss 4.911870 Valid loss 5.049070\n",
      "Epoch 40/60\n",
      "Train loss 4.911865 Valid loss 5.049133\n",
      "Epoch 41/60\n",
      "Train loss 4.911857 Valid loss 5.049097\n",
      "Epoch 42/60\n",
      "Train loss 4.911856 Valid loss 5.049126\n",
      "Epoch 43/60\n",
      "Train loss 4.911866 Valid loss 5.049090\n",
      "Epoch 44/60\n",
      "Train loss 4.911849 Valid loss 5.049135\n",
      "Epoch 45/60\n",
      "Train loss 4.911861 Valid loss 5.049099\n",
      "Epoch 46/60\n",
      "Train loss 4.911855 Valid loss 5.049120\n",
      "Epoch 47/60\n",
      "Train loss 4.911860 Valid loss 5.049108\n",
      "Epoch 48/60\n",
      "Train loss 4.911856 Valid loss 5.049117\n",
      "Epoch 49/60\n",
      "Train loss 4.911860 Valid loss 5.049108\n",
      "Epoch 50/60\n",
      "Train loss 4.911857 Valid loss 5.049115\n",
      "Epoch 51/60\n",
      "Train loss 4.911860 Valid loss 5.049108\n",
      "Epoch 52/60\n",
      "Train loss 4.911857 Valid loss 5.049115\n",
      "Epoch 53/60\n",
      "Train loss 4.911858 Valid loss 5.049110\n",
      "Epoch 54/60\n",
      "Train loss 4.911856 Valid loss 5.049114\n",
      "Epoch 55/60\n",
      "Train loss 4.911858 Valid loss 5.049111\n",
      "Epoch 56/60\n",
      "Train loss 4.911856 Valid loss 5.049113\n",
      "Epoch 57/60\n",
      "Train loss 4.911859 Valid loss 5.049110\n",
      "Epoch 58/60\n",
      "Train loss 4.911857 Valid loss 5.049113\n",
      "Epoch 59/60\n",
      "Train loss 4.911857 Valid loss 5.049111\n",
      "Epoch 60/60\n",
      "Train loss 4.911857 Valid loss 5.049113\n",
      "Test loss: 5.069343 \n",
      "\n"
     ]
    }
   ],
   "source": [
    "if not os.path.exists(enet_filename) or train_enet:\n",
    "    optimizer = torch.optim.Adagrad(Enet.parameters(), lr=1e-3)\n",
    "    epochs = 60\n",
    "    train(Enet, optimizer, train_encoder_dataloader, valid_encoder_dataloader)\n",
    "    test(Enet, test_encoder_dataloader)\n",
    "    torch.save(Enet.state_dict(), enet_filename)\n",
    "else:\n",
    "    Enet.load_state_dict(torch.load(enet_filename))\n",
    "    Enet.eval()"
   ]
  },
  {
   "cell_type": "markdown",
   "metadata": {},
   "source": [
    "## **Test Encoder**"
   ]
  },
  {
   "cell_type": "code",
   "execution_count": 20,
   "metadata": {
    "colab": {
     "base_uri": "https://localhost:8080/",
     "height": 393
    },
    "executionInfo": {
     "elapsed": 418,
     "status": "ok",
     "timestamp": 1641398303376,
     "user": {
      "displayName": "AlterArm",
      "photoUrl": "https://lh3.googleusercontent.com/a-/AOh14GiWK-wxB4-D5jlbs06y0_VdCNGrHcXmI4AQYyiejQ=s64",
      "userId": "02741529306535878932"
     },
     "user_tz": -60
    },
    "id": "QCQgyA_15PvK",
    "outputId": "cad80819-974e-40b4-c66a-def1b9ffc767"
   },
   "outputs": [
    {
     "name": "stdout",
     "output_type": "stream",
     "text": [
      "torch.Size([1, 120, 120])\n"
     ]
    },
    {
     "data": {
      "image/png": "[encoded data removed]",
      "text/plain": [
       "<Figure size 432x288 with 1 Axes>"
      ]
     },
     "metadata": {
      "needs_background": "light"
     },
     "output_type": "display_data"
    },
    {
     "name": "stdout",
     "output_type": "stream",
     "text": [
      "torch.Size([1, 120, 120])\n"
     ]
    },
    {
     "data": {
      "image/png": "[encoded data removed]",
      "text/plain": [
       "<Figure size 432x288 with 1 Axes>"
      ]
     },
     "metadata": {
      "needs_background": "light"
     },
     "output_type": "display_data"
    },
    {
     "name": "stdout",
     "output_type": "stream",
     "text": [
      "torch.Size([32])\n",
      "torch.Size([1, 120, 120])\n"
     ]
    },
    {
     "data": {
      "image/png": "[encoded data removed]",
      "text/plain": [
       "<Figure size 432x288 with 1 Axes>"
      ]
     },
     "metadata": {
      "needs_background": "light"
     },
     "output_type": "display_data"
    }
   ],
   "source": [
    "# Display Results\n",
    "test_image, _ = next(iter(test_encoder_dataloader))\n",
    "display_image(test_image[0].unsqueeze(0))\n",
    "\n",
    "result = Enet(test_image.to(device))\n",
    "display_image(result[0].cpu().unsqueeze(0))\n",
    "print(Enet.Encoder(test_image.to(device))[0].shape)\n",
    "\n",
    "encoded = Enet.Encoder(test_image.to(device))[0]\n",
    "# print(encoded)\n",
    "display_image(Enet.Decoder(encoded.unsqueeze(0)).cpu())"
   ]
  },
  {
   "cell_type": "markdown",
   "metadata": {},
   "source": [
    "## **Create path planning dataset**"
   ]
  },
  {
   "cell_type": "code",
   "execution_count": 24,
   "metadata": {},
   "outputs": [],
   "source": [
    "class PathDataset(Dataset):\n",
    "\n",
    "    def __init__(self, images_dir, paths_dir, encoder):\n",
    "        self.images_dir = images_dir\n",
    "        self.paths_dir = paths_dir\n",
    "        self.encoder = encoder\n",
    "\n",
    "        images_paths = Path(images_dir).glob('*/')\n",
    "        self.sample_names = [x.name[0:-4] for x in images_paths if str(x).endswith('.png')]\n",
    "\n",
    "    def __len__(self):\n",
    "        return len(self.sample_names)\n",
    "\n",
    "\n",
    "    def __getitem__(self, idx):\n",
    "        image_name = self.images_dir + self.sample_names[idx] + '.png'\n",
    "        path_name = self.paths_dir + self.sample_names[idx] + '.json'\n",
    "\n",
    "        image = plt.imread(image_name)\n",
    "        plt.imshow(image)\n",
    "        plt.show()\n",
    "        print(image)\n",
    "        exit()\n",
    "\n",
    "        image = Tensor(image).to(device)\n",
    "        image = image.permute(2,1,0)\n",
    "        image = image[2, :, :]\n",
    "\n",
    "        encoded_img = self.encoder(image.unsqueeze(0))[0].detach().cpu()\n",
    "\n",
    "        x_start = 0\n",
    "        X_goal = 0\n",
    "        input_data = torch.cat([torch.flatten(encoded_img), x_start, x_goal])\n",
    "        input_data.requires_grad = True\n",
    "\n",
    "        return input_data, x_pred\n",
    "\n",
    "\n",
    "train_dataset = PathDataset(train_images_dir, train_paths_dir, Enet.Encoder)\n",
    "valid_dataset = PathDataset(valid_images_dir, valid_paths_dir, Enet.Encoder)\n",
    "test_dataset = PathDataset(test_images_dir, test_paths_dir, Enet.Encoder)\n",
    "\n",
    "# train_dataloader = DataLoader(train_dataset, batch_size=100, shuffle=True, pin_memory=True)"
   ]
  },
  {
   "cell_type": "code",
   "execution_count": 25,
   "metadata": {},
   "outputs": [
    {
     "name": "stdout",
     "output_type": "stream",
     "text": [
      "Model parameters: 3693868\n"
     ]
    }
   ],
   "source": [
    "class PlanningNetwork(nn.Module):\n",
    "    def __init__(self, p=0.5):\n",
    "        super(PlanningNetwork, self).__init__()\n",
    "\n",
    "        enc_img_size = 32\n",
    "        self.dense1 = nn.Sequential(nn.Linear(enc_img_size, 1280), nn.PReLU(), nn.Dropout(p))\n",
    "        self.dense2 = nn.Sequential(nn.Linear(1280, 1024), nn.PReLU(), nn.Dropout(p))\n",
    "        self.dense3 = nn.Sequential(nn.Linear(1024, 896), nn.PReLU(), nn.Dropout(p))\n",
    "        self.dense4 = nn.Sequential(nn.Linear(896, 768), nn.PReLU(), nn.Dropout(p))\n",
    "        self.dense5 = nn.Sequential(nn.Linear(768, 512), nn.PReLU(), nn.Dropout(p))\n",
    "        self.dense6 = nn.Sequential(nn.Linear(512, 384), nn.PReLU(), nn.Dropout(p))\n",
    "        self.dense7 = nn.Sequential(nn.Linear(384, 256), nn.PReLU(), nn.Dropout(p))\n",
    "        self.dense8 = nn.Sequential(nn.Linear(256, 128), nn.PReLU(), nn.Dropout(p))\n",
    "        self.dense9 = nn.Sequential(nn.Linear(128, 64), nn.PReLU(), nn.Dropout(p))\n",
    "        self.dense10 = nn.Sequential(nn.Linear(64, 32), nn.PReLU())\n",
    "        self.dense11 = nn.Sequential(nn.Linear(32, 2))\n",
    "        \n",
    "    def forward(self, x):\n",
    "\n",
    "        x = self.dense1(x)\n",
    "        x = self.dense2(x)\n",
    "        x = self.dense3(x)\n",
    "        x = self.dense4(x)\n",
    "        x = self.dense5(x)\n",
    "        x = self.dense6(x)\n",
    "        x = self.dense7(x)\n",
    "        x = self.dense8(x)\n",
    "        x = self.dense9(x)\n",
    "        x = self.dense10(x)\n",
    "        x = self.dense11(x)\n",
    "\n",
    "        return x\n",
    "\n",
    "Pnet = PlanningNetwork().to(device)\n",
    "print('Model parameters:', sum(p.numel() for p in Pnet.parameters() if p.requires_grad))"
   ]
  },
  {
   "cell_type": "code",
   "execution_count": 26,
   "metadata": {},
   "outputs": [],
   "source": [
    "class Pnet_loss(nn.Module):\n",
    "    def __init__(self):\n",
    "        super().__init__()\n",
    "        \n",
    "    def forward(self, output, target):\n",
    "\n",
    "        loss = Tensor([0]).to(device)\n",
    "        for i in range(len(target)):\n",
    "            loss += torch.square(output[i, 0] - target[i, 0])\n",
    "            loss += torch.square(output[i, 1] - target[i, 1])\n",
    "        \n",
    "        loss /= (target.shape[0] * 2)\n",
    "        \n",
    "        return loss"
   ]
  },
  {
   "cell_type": "code",
   "execution_count": null,
   "metadata": {},
   "outputs": [],
   "source": [
    "loss_fn = Pnet_loss()\n",
    "optimizer = torch.optim.Adagrad(Pnet.parameters(), lr=1e-4)\n",
    "\n",
    "if not os.path.exists(pnet_filename) or train_pnet == True:\n",
    "    epochs = 100\n",
    "    for t in range(epochs):\n",
    "        print(f'Epoch {t+1}\\n-------------------------------')\n",
    "        train(train_dataset, Pnet, loss_fn.forward, optimizer)\n",
    "        test(test_dataloader_known_maps, Pnet, loss_fn.forward)\n",
    "        test(test_dataloader_unknown_maps, Pnet, loss_fn.forward)\n",
    "    print('Done!')\n",
    "    torch.save(Pnet.state_dict(), pnet_filename)\n",
    "else:\n",
    "    Pnet.load_state_dict(torch.load(pnet_filename))\n",
    "    Pnet.eval()"
   ]
  },
  {
   "cell_type": "code",
   "execution_count": null,
   "metadata": {},
   "outputs": [],
   "source": [
    "# Display results\n",
    "i = 0\n",
    "image_path = test_konwn_maps_dir + 'map_' + str(i) + '_0.png'\n",
    "image = Tensor(plt.imread(image_path)).to(device)\n",
    "image = image.permute(2,1,0)\n",
    "image = image[2:3, :, :]\n",
    "\n",
    "encoded_img = Enet.Encoder(image.unsqueeze(0))[0].detach().cpu()\n",
    "\n",
    "planned_path = Tensor(test_known_map_paths['map_' + str(i) + '_0.png'])\n",
    "path_len = len(planned_path)\n",
    "\n",
    "if path_len > 2:\n",
    "    point_idx = np.random.randint(0, path_len - 2)\n",
    "else:\n",
    "    point_idx = 0\n",
    "\n",
    "x_start = planned_path[point_idx] / image.shape[-1]\n",
    "x_goal = planned_path[-1] / image.shape[-1]\n",
    "x_pred = planned_path[point_idx + 1] / image.shape[-1]\n",
    "input_data = torch.cat([torch.flatten(encoded_img), x_start, x_goal])\n",
    "\n",
    "print(input_data.to(device).unsqueeze(0))\n",
    "\n",
    "result = Pnet(input_data.to(device).unsqueeze(0))\n",
    "\n",
    "i = 0\n",
    "for point in [x_start, x_goal, result[0].detach().cpu()]:\n",
    "    print(point)\n",
    "    x, y = point.numpy()\n",
    "    x*=120\n",
    "    y*=120\n",
    "\n",
    "    p = 0.6\n",
    "\n",
    "    if i > 1:\n",
    "        p = 0.25\n",
    "\n",
    "    image[:, int(x) - 1, int(y) - 1] = p\n",
    "    image[:, int(x) - 1, int(y)] = p\n",
    "    image[:, int(x) - 1, int(y) + 1] = p\n",
    "    image[:, int(x), int(y) - 1] = p\n",
    "    image[:, int(x), int(y)] = p\n",
    "    image[:, int(x), int(y) + 1] = p\n",
    "    image[:, int(x) + 1, int(y) - 1] = p\n",
    "    image[:, int(x) + 1, int(y)] = p\n",
    "    image[:, int(x) + 1, int(y) + 1] = p\n",
    "    i += 1\n",
    "\n",
    "\n",
    "plt.imshow(image.permute(1, 2, 0).detach().cpu().numpy(), cmap='gray')\n",
    "\n",
    "print(x_start*120, x_goal*120, x_pred*120)\n",
    "print(result.shape, x_pred.shape)\n",
    "print(result.tolist())"
   ]
  },
  {
   "cell_type": "code",
   "execution_count": null,
   "metadata": {},
   "outputs": [],
   "source": [
    "def Replaning(a, b):\n",
    "    pass\n",
    "\n",
    "N = 10"
   ]
  },
  {
   "cell_type": "code",
   "execution_count": null,
   "metadata": {},
   "outputs": [],
   "source": [
    "# Algorithm 1\n",
    "def MPNet(x_init, x_goal, x_obs):\n",
    "    Z = Enet.Encoder(x_obs)\n",
    "    Tau = NeuralPlanner(x_init, x_goal, Z)\n",
    "    if Tau:\n",
    "        Tau = lazy_states_contraction(Tau)\n",
    "\n",
    "        if is_feasible(Tau):\n",
    "            return Tau\n",
    "        else:\n",
    "            Tau_new = Replaning(Tau, Z)\n",
    "            Tau_new = lazy_states_contraction(Tau_new)\n",
    "            if is_feasible(Tau_new):\n",
    "                return Tau_new\n",
    "    return 0"
   ]
  },
  {
   "cell_type": "code",
   "execution_count": null,
   "metadata": {},
   "outputs": [],
   "source": [
    "# Algorithm 2\n",
    "def NeuralPlanner(x_start, x_goal, Z):\n",
    "    Tau_a = [x_start]\n",
    "    Tau_b = [x_goal]\n",
    "    Tau = 0\n",
    "\n",
    "    for i in range(N):\n",
    "        x_new = Pnet(Z, Tau_a[-1], Tau_b[-1])\n",
    "        Tau_a.append(x_new)\n",
    "        connectable = steer_to(Tau_a[-1], Tau_b[-1])\n",
    "\n",
    "        if connectable:\n",
    "            Tau = np.concatenate((Tau_a, Tau_b))\n",
    "            return Tau\n",
    "\n",
    "        Tau_a, Tau_b = Tau_b, Tau_a\n",
    "\n",
    "    return 0"
   ]
  }
 ],
 "metadata": {
  "colab": {
   "authorship_tag": "ABX9TyPwQqSrx/eWM5U7H1MeaJ9I",
   "collapsed_sections": [],
   "name": "motion_planning_network.ipynb",
   "provenance": []
  },
  "kernelspec": {
   "display_name": "Python 3",
   "name": "python3"
  },
  "language_info": {
   "codemirror_mode": {
    "name": "ipython",
    "version": 3
   },
   "file_extension": ".py",
   "mimetype": "text/x-python",
   "name": "python",
   "nbconvert_exporter": "python",
   "pygments_lexer": "ipython3",
   "version": "3.9.7"
  }
 },
 "nbformat": 4,
 "nbformat_minor": 0
}
